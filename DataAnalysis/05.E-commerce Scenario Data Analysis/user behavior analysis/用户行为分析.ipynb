{
 "cells": [
  {
   "cell_type": "code",
   "execution_count": 1,
   "metadata": {},
   "outputs": [
    {
     "data": {
      "text/html": [
       "<div>\n",
       "<style scoped>\n",
       "    .dataframe tbody tr th:only-of-type {\n",
       "        vertical-align: middle;\n",
       "    }\n",
       "\n",
       "    .dataframe tbody tr th {\n",
       "        vertical-align: top;\n",
       "    }\n",
       "\n",
       "    .dataframe thead th {\n",
       "        text-align: right;\n",
       "    }\n",
       "</style>\n",
       "<table border=\"1\" class=\"dataframe\">\n",
       "  <thead>\n",
       "    <tr style=\"text-align: right;\">\n",
       "      <th></th>\n",
       "      <th>Unnamed: 0</th>\n",
       "      <th>cust_id</th>\n",
       "      <th>prod_id</th>\n",
       "      <th>group_id</th>\n",
       "      <th>be_type</th>\n",
       "      <th>day_id</th>\n",
       "      <th>buy_time</th>\n",
       "    </tr>\n",
       "  </thead>\n",
       "  <tbody>\n",
       "    <tr>\n",
       "      <th>0</th>\n",
       "      <td>0</td>\n",
       "      <td>101</td>\n",
       "      <td>1305157</td>\n",
       "      <td>2520872</td>\n",
       "      <td>pv</td>\n",
       "      <td>2019-11-09 07:32:10</td>\n",
       "      <td>2019-11-09</td>\n",
       "    </tr>\n",
       "    <tr>\n",
       "      <th>1</th>\n",
       "      <td>1</td>\n",
       "      <td>101</td>\n",
       "      <td>1323287</td>\n",
       "      <td>3524611</td>\n",
       "      <td>pv</td>\n",
       "      <td>2019-11-12 01:30:35</td>\n",
       "      <td>2019-11-12</td>\n",
       "    </tr>\n",
       "    <tr>\n",
       "      <th>2</th>\n",
       "      <td>2</td>\n",
       "      <td>101</td>\n",
       "      <td>1338623</td>\n",
       "      <td>149293</td>\n",
       "      <td>pv</td>\n",
       "      <td>2019-11-07 17:00:14</td>\n",
       "      <td>2019-11-07</td>\n",
       "    </tr>\n",
       "    <tr>\n",
       "      <th>3</th>\n",
       "      <td>3</td>\n",
       "      <td>101</td>\n",
       "      <td>1341020</td>\n",
       "      <td>4690522</td>\n",
       "      <td>pv</td>\n",
       "      <td>2019-11-10 19:27:40</td>\n",
       "      <td>2019-11-10</td>\n",
       "    </tr>\n",
       "    <tr>\n",
       "      <th>4</th>\n",
       "      <td>4</td>\n",
       "      <td>101</td>\n",
       "      <td>1531134</td>\n",
       "      <td>2920577</td>\n",
       "      <td>pv</td>\n",
       "      <td>2019-11-07 06:02:12</td>\n",
       "      <td>2019-11-07</td>\n",
       "    </tr>\n",
       "  </tbody>\n",
       "</table>\n",
       "</div>"
      ],
      "text/plain": [
       "   Unnamed: 0  cust_id  prod_id  group_id be_type               day_id  \\\n",
       "0           0      101  1305157   2520872      pv  2019-11-09 07:32:10   \n",
       "1           1      101  1323287   3524611      pv  2019-11-12 01:30:35   \n",
       "2           2      101  1338623    149293      pv  2019-11-07 17:00:14   \n",
       "3           3      101  1341020   4690522      pv  2019-11-10 19:27:40   \n",
       "4           4      101  1531134   2920577      pv  2019-11-07 06:02:12   \n",
       "\n",
       "     buy_time  \n",
       "0  2019-11-09  \n",
       "1  2019-11-12  \n",
       "2  2019-11-07  \n",
       "3  2019-11-10  \n",
       "4  2019-11-07  "
      ]
     },
     "execution_count": 1,
     "metadata": {},
     "output_type": "execute_result"
    }
   ],
   "source": [
    "import pandas as pd\n",
    "import numpy as np\n",
    "import matplotlib.pyplot as plt\n",
    "%matplotlib inline\n",
    "g=open('C:/Users/jiang/Desktop/课件/课件整理0729/第二讲/customer_behavior.csv',encoding='utf-8')\n",
    "#three_data=pd.read_csv(g)\n",
    "df=pd.read_csv(g)\n",
    "df.head()"
   ]
  },
  {
   "cell_type": "raw",
   "metadata": {},
   "source": [
    "数据的提取"
   ]
  },
  {
   "cell_type": "code",
   "execution_count": 2,
   "metadata": {},
   "outputs": [],
   "source": [
    "data=df[['cust_id','prod_id','group_id','be_type','day_id','buy_time']]"
   ]
  },
  {
   "cell_type": "raw",
   "metadata": {},
   "source": [
    "数据清洗，筛选出11月5号到11月13号之间的数据，去除不符合条件的数据\n",
    "异常数据的处理"
   ]
  },
  {
   "cell_type": "code",
   "execution_count": 3,
   "metadata": {},
   "outputs": [],
   "source": [
    "data1= data[(data.buy_time>='2019-11-05')&(data.buy_time<='2019-11-13')]"
   ]
  },
  {
   "cell_type": "raw",
   "metadata": {},
   "source": [
    "查看筛选后数据与筛选前数据比较，看数据集是否有变化"
   ]
  },
  {
   "cell_type": "code",
   "execution_count": 4,
   "metadata": {},
   "outputs": [
    {
     "data": {
      "text/plain": [
       "10224104"
      ]
     },
     "execution_count": 4,
     "metadata": {},
     "output_type": "execute_result"
    }
   ],
   "source": [
    "len(data)"
   ]
  },
  {
   "cell_type": "code",
   "execution_count": 5,
   "metadata": {},
   "outputs": [
    {
     "data": {
      "text/plain": [
       "10218544"
      ]
     },
     "execution_count": 5,
     "metadata": {},
     "output_type": "execute_result"
    }
   ],
   "source": [
    "len(data1)"
   ]
  },
  {
   "cell_type": "raw",
   "metadata": {},
   "source": [
    "查看数据"
   ]
  },
  {
   "cell_type": "code",
   "execution_count": 6,
   "metadata": {},
   "outputs": [
    {
     "data": {
      "text/html": [
       "<div>\n",
       "<style scoped>\n",
       "    .dataframe tbody tr th:only-of-type {\n",
       "        vertical-align: middle;\n",
       "    }\n",
       "\n",
       "    .dataframe tbody tr th {\n",
       "        vertical-align: top;\n",
       "    }\n",
       "\n",
       "    .dataframe thead th {\n",
       "        text-align: right;\n",
       "    }\n",
       "</style>\n",
       "<table border=\"1\" class=\"dataframe\">\n",
       "  <thead>\n",
       "    <tr style=\"text-align: right;\">\n",
       "      <th></th>\n",
       "      <th>cust_id</th>\n",
       "      <th>prod_id</th>\n",
       "      <th>group_id</th>\n",
       "      <th>be_type</th>\n",
       "      <th>day_id</th>\n",
       "      <th>buy_time</th>\n",
       "    </tr>\n",
       "  </thead>\n",
       "  <tbody>\n",
       "    <tr>\n",
       "      <th>0</th>\n",
       "      <td>101</td>\n",
       "      <td>1305157</td>\n",
       "      <td>2520872</td>\n",
       "      <td>pv</td>\n",
       "      <td>2019-11-09 07:32:10</td>\n",
       "      <td>2019-11-09</td>\n",
       "    </tr>\n",
       "    <tr>\n",
       "      <th>1</th>\n",
       "      <td>101</td>\n",
       "      <td>1323287</td>\n",
       "      <td>3524611</td>\n",
       "      <td>pv</td>\n",
       "      <td>2019-11-12 01:30:35</td>\n",
       "      <td>2019-11-12</td>\n",
       "    </tr>\n",
       "    <tr>\n",
       "      <th>2</th>\n",
       "      <td>101</td>\n",
       "      <td>1338623</td>\n",
       "      <td>149293</td>\n",
       "      <td>pv</td>\n",
       "      <td>2019-11-07 17:00:14</td>\n",
       "      <td>2019-11-07</td>\n",
       "    </tr>\n",
       "    <tr>\n",
       "      <th>3</th>\n",
       "      <td>101</td>\n",
       "      <td>1341020</td>\n",
       "      <td>4690522</td>\n",
       "      <td>pv</td>\n",
       "      <td>2019-11-10 19:27:40</td>\n",
       "      <td>2019-11-10</td>\n",
       "    </tr>\n",
       "    <tr>\n",
       "      <th>4</th>\n",
       "      <td>101</td>\n",
       "      <td>1531134</td>\n",
       "      <td>2920577</td>\n",
       "      <td>pv</td>\n",
       "      <td>2019-11-07 06:02:12</td>\n",
       "      <td>2019-11-07</td>\n",
       "    </tr>\n",
       "  </tbody>\n",
       "</table>\n",
       "</div>"
      ],
      "text/plain": [
       "   cust_id  prod_id  group_id be_type               day_id    buy_time\n",
       "0      101  1305157   2520872      pv  2019-11-09 07:32:10  2019-11-09\n",
       "1      101  1323287   3524611      pv  2019-11-12 01:30:35  2019-11-12\n",
       "2      101  1338623    149293      pv  2019-11-07 17:00:14  2019-11-07\n",
       "3      101  1341020   4690522      pv  2019-11-10 19:27:40  2019-11-10\n",
       "4      101  1531134   2920577      pv  2019-11-07 06:02:12  2019-11-07"
      ]
     },
     "execution_count": 6,
     "metadata": {},
     "output_type": "execute_result"
    }
   ],
   "source": [
    "data1.head()"
   ]
  },
  {
   "cell_type": "code",
   "execution_count": 7,
   "metadata": {},
   "outputs": [
    {
     "data": {
      "text/plain": [
       "(10218544, 6)"
      ]
     },
     "execution_count": 7,
     "metadata": {},
     "output_type": "execute_result"
    }
   ],
   "source": [
    "data1.shape"
   ]
  },
  {
   "cell_type": "code",
   "execution_count": 8,
   "metadata": {},
   "outputs": [
    {
     "data": {
      "text/plain": [
       "0        pv\n",
       "60      fav\n",
       "100     buy\n",
       "271    cart\n",
       "Name: be_type, dtype: object"
      ]
     },
     "execution_count": 8,
     "metadata": {},
     "output_type": "execute_result"
    }
   ],
   "source": [
    "data1['be_type'].drop_duplicates()"
   ]
  },
  {
   "cell_type": "raw",
   "metadata": {},
   "source": [
    "查看数据类型"
   ]
  },
  {
   "cell_type": "code",
   "execution_count": 9,
   "metadata": {},
   "outputs": [
    {
     "data": {
      "text/plain": [
       "cust_id      int64\n",
       "prod_id      int64\n",
       "group_id     int64\n",
       "be_type     object\n",
       "day_id      object\n",
       "buy_time    object\n",
       "dtype: object"
      ]
     },
     "execution_count": 9,
     "metadata": {},
     "output_type": "execute_result"
    }
   ],
   "source": [
    "data1.dtypes"
   ]
  },
  {
   "cell_type": "code",
   "execution_count": 10,
   "metadata": {},
   "outputs": [
    {
     "data": {
      "text/plain": [
       "cust_id     False\n",
       "prod_id     False\n",
       "group_id    False\n",
       "be_type     False\n",
       "day_id      False\n",
       "buy_time    False\n",
       "dtype: bool"
      ]
     },
     "execution_count": 10,
     "metadata": {},
     "output_type": "execute_result"
    }
   ],
   "source": [
    "data1.isnull().any()"
   ]
  },
  {
   "cell_type": "raw",
   "metadata": {},
   "source": [
    "时间格式处理，将字符串转换为时间格式"
   ]
  },
  {
   "cell_type": "code",
   "execution_count": 11,
   "metadata": {},
   "outputs": [],
   "source": [
    "import time\n",
    "from datetime import datetime,timedelta,date"
   ]
  },
  {
   "cell_type": "code",
   "execution_count": 12,
   "metadata": {},
   "outputs": [
    {
     "name": "stderr",
     "output_type": "stream",
     "text": [
      "E:\\anaconda\\lib\\site-packages\\ipykernel_launcher.py:1: SettingWithCopyWarning: \n",
      "A value is trying to be set on a copy of a slice from a DataFrame.\n",
      "Try using .loc[row_indexer,col_indexer] = value instead\n",
      "\n",
      "See the caveats in the documentation: http://pandas.pydata.org/pandas-docs/stable/indexing.html#indexing-view-versus-copy\n",
      "  \"\"\"Entry point for launching an IPython kernel.\n"
     ]
    }
   ],
   "source": [
    "data1['day_id']=pd.to_datetime(data1['day_id'],format='%Y-%m-%d')"
   ]
  },
  {
   "cell_type": "raw",
   "metadata": {},
   "source": [
    "提取出时间中的月份、天、时、星期等维度"
   ]
  },
  {
   "cell_type": "code",
   "execution_count": 13,
   "metadata": {},
   "outputs": [
    {
     "name": "stderr",
     "output_type": "stream",
     "text": [
      "E:\\anaconda\\lib\\site-packages\\ipykernel_launcher.py:1: SettingWithCopyWarning: \n",
      "A value is trying to be set on a copy of a slice from a DataFrame.\n",
      "Try using .loc[row_indexer,col_indexer] = value instead\n",
      "\n",
      "See the caveats in the documentation: http://pandas.pydata.org/pandas-docs/stable/indexing.html#indexing-view-versus-copy\n",
      "  \"\"\"Entry point for launching an IPython kernel.\n",
      "E:\\anaconda\\lib\\site-packages\\ipykernel_launcher.py:2: SettingWithCopyWarning: \n",
      "A value is trying to be set on a copy of a slice from a DataFrame.\n",
      "Try using .loc[row_indexer,col_indexer] = value instead\n",
      "\n",
      "See the caveats in the documentation: http://pandas.pydata.org/pandas-docs/stable/indexing.html#indexing-view-versus-copy\n",
      "  \n",
      "E:\\anaconda\\lib\\site-packages\\ipykernel_launcher.py:3: SettingWithCopyWarning: \n",
      "A value is trying to be set on a copy of a slice from a DataFrame.\n",
      "Try using .loc[row_indexer,col_indexer] = value instead\n",
      "\n",
      "See the caveats in the documentation: http://pandas.pydata.org/pandas-docs/stable/indexing.html#indexing-view-versus-copy\n",
      "  This is separate from the ipykernel package so we can avoid doing imports until\n",
      "E:\\anaconda\\lib\\site-packages\\ipykernel_launcher.py:4: SettingWithCopyWarning: \n",
      "A value is trying to be set on a copy of a slice from a DataFrame.\n",
      "Try using .loc[row_indexer,col_indexer] = value instead\n",
      "\n",
      "See the caveats in the documentation: http://pandas.pydata.org/pandas-docs/stable/indexing.html#indexing-view-versus-copy\n",
      "  after removing the cwd from sys.path.\n",
      "E:\\anaconda\\lib\\site-packages\\ipykernel_launcher.py:5: SettingWithCopyWarning: \n",
      "A value is trying to be set on a copy of a slice from a DataFrame.\n",
      "Try using .loc[row_indexer,col_indexer] = value instead\n",
      "\n",
      "See the caveats in the documentation: http://pandas.pydata.org/pandas-docs/stable/indexing.html#indexing-view-versus-copy\n",
      "  \"\"\"\n"
     ]
    }
   ],
   "source": [
    "data1['month']=data1['day_id'].dt.month\n",
    "data1['buy_time']=data1['day_id'].dt.date\n",
    "data1['times']=data1['day_id'].dt.time\n",
    "data1['hours']=data1['day_id'].dt.hour\n",
    "data1['weekday']=data1['day_id'].dt.dayofweek+1"
   ]
  },
  {
   "cell_type": "code",
   "execution_count": 14,
   "metadata": {},
   "outputs": [
    {
     "data": {
      "text/html": [
       "<div>\n",
       "<style scoped>\n",
       "    .dataframe tbody tr th:only-of-type {\n",
       "        vertical-align: middle;\n",
       "    }\n",
       "\n",
       "    .dataframe tbody tr th {\n",
       "        vertical-align: top;\n",
       "    }\n",
       "\n",
       "    .dataframe thead th {\n",
       "        text-align: right;\n",
       "    }\n",
       "</style>\n",
       "<table border=\"1\" class=\"dataframe\">\n",
       "  <thead>\n",
       "    <tr style=\"text-align: right;\">\n",
       "      <th></th>\n",
       "      <th>cust_id</th>\n",
       "      <th>prod_id</th>\n",
       "      <th>group_id</th>\n",
       "      <th>be_type</th>\n",
       "      <th>day_id</th>\n",
       "      <th>buy_time</th>\n",
       "      <th>month</th>\n",
       "      <th>times</th>\n",
       "      <th>hours</th>\n",
       "      <th>weekday</th>\n",
       "    </tr>\n",
       "  </thead>\n",
       "  <tbody>\n",
       "    <tr>\n",
       "      <th>0</th>\n",
       "      <td>101</td>\n",
       "      <td>1305157</td>\n",
       "      <td>2520872</td>\n",
       "      <td>pv</td>\n",
       "      <td>2019-11-09 07:32:10</td>\n",
       "      <td>2019-11-09</td>\n",
       "      <td>11</td>\n",
       "      <td>07:32:10</td>\n",
       "      <td>7</td>\n",
       "      <td>6</td>\n",
       "    </tr>\n",
       "    <tr>\n",
       "      <th>1</th>\n",
       "      <td>101</td>\n",
       "      <td>1323287</td>\n",
       "      <td>3524611</td>\n",
       "      <td>pv</td>\n",
       "      <td>2019-11-12 01:30:35</td>\n",
       "      <td>2019-11-12</td>\n",
       "      <td>11</td>\n",
       "      <td>01:30:35</td>\n",
       "      <td>1</td>\n",
       "      <td>2</td>\n",
       "    </tr>\n",
       "    <tr>\n",
       "      <th>2</th>\n",
       "      <td>101</td>\n",
       "      <td>1338623</td>\n",
       "      <td>149293</td>\n",
       "      <td>pv</td>\n",
       "      <td>2019-11-07 17:00:14</td>\n",
       "      <td>2019-11-07</td>\n",
       "      <td>11</td>\n",
       "      <td>17:00:14</td>\n",
       "      <td>17</td>\n",
       "      <td>4</td>\n",
       "    </tr>\n",
       "    <tr>\n",
       "      <th>3</th>\n",
       "      <td>101</td>\n",
       "      <td>1341020</td>\n",
       "      <td>4690522</td>\n",
       "      <td>pv</td>\n",
       "      <td>2019-11-10 19:27:40</td>\n",
       "      <td>2019-11-10</td>\n",
       "      <td>11</td>\n",
       "      <td>19:27:40</td>\n",
       "      <td>19</td>\n",
       "      <td>7</td>\n",
       "    </tr>\n",
       "    <tr>\n",
       "      <th>4</th>\n",
       "      <td>101</td>\n",
       "      <td>1531134</td>\n",
       "      <td>2920577</td>\n",
       "      <td>pv</td>\n",
       "      <td>2019-11-07 06:02:12</td>\n",
       "      <td>2019-11-07</td>\n",
       "      <td>11</td>\n",
       "      <td>06:02:12</td>\n",
       "      <td>6</td>\n",
       "      <td>4</td>\n",
       "    </tr>\n",
       "  </tbody>\n",
       "</table>\n",
       "</div>"
      ],
      "text/plain": [
       "   cust_id  prod_id  group_id be_type              day_id    buy_time  month  \\\n",
       "0      101  1305157   2520872      pv 2019-11-09 07:32:10  2019-11-09     11   \n",
       "1      101  1323287   3524611      pv 2019-11-12 01:30:35  2019-11-12     11   \n",
       "2      101  1338623    149293      pv 2019-11-07 17:00:14  2019-11-07     11   \n",
       "3      101  1341020   4690522      pv 2019-11-10 19:27:40  2019-11-10     11   \n",
       "4      101  1531134   2920577      pv 2019-11-07 06:02:12  2019-11-07     11   \n",
       "\n",
       "      times  hours  weekday  \n",
       "0  07:32:10      7        6  \n",
       "1  01:30:35      1        2  \n",
       "2  17:00:14     17        4  \n",
       "3  19:27:40     19        7  \n",
       "4  06:02:12      6        4  "
      ]
     },
     "execution_count": 14,
     "metadata": {},
     "output_type": "execute_result"
    }
   ],
   "source": [
    "data1.head()"
   ]
  },
  {
   "cell_type": "raw",
   "metadata": {},
   "source": [
    "AARR模型分析"
   ]
  },
  {
   "cell_type": "raw",
   "metadata": {},
   "source": [
    "根据用户行为对用户进行分组计数"
   ]
  },
  {
   "cell_type": "code",
   "execution_count": 15,
   "metadata": {},
   "outputs": [],
   "source": [
    "behavior_count=data1.groupby('be_type')['cust_id'].count()"
   ]
  },
  {
   "cell_type": "code",
   "execution_count": 16,
   "metadata": {},
   "outputs": [
    {
     "data": {
      "text/plain": [
       "be_type\n",
       "buy      203458\n",
       "cart     567531\n",
       "fav      302497\n",
       "pv      9145058\n",
       "Name: cust_id, dtype: int64"
      ]
     },
     "execution_count": 16,
     "metadata": {},
     "output_type": "execute_result"
    }
   ],
   "source": [
    "behavior_count.head()"
   ]
  },
  {
   "cell_type": "raw",
   "metadata": {},
   "source": [
    "流量指标分析：PV、UV、平均访问量"
   ]
  },
  {
   "cell_type": "code",
   "execution_count": 17,
   "metadata": {},
   "outputs": [
    {
     "name": "stdout",
     "output_type": "stream",
     "text": [
      "PV=9145058\n",
      "UV=100000\n",
      "平均访问量 PV/UV=91\n"
     ]
    }
   ],
   "source": [
    "PV=behavior_count['pv']\n",
    "print(\"PV=%d\"%PV)\n",
    "UV=len(data['cust_id'].unique())\n",
    "print(\"UV=%d\"%UV)\n",
    "print(\"平均访问量 PV/UV=%d\"%(PV/UV))"
   ]
  },
  {
   "cell_type": "raw",
   "metadata": {},
   "source": [
    "跳失率\n",
    "跳失率：只有点击行为的用户数/总用户数，总用户数即uv"
   ]
  },
  {
   "cell_type": "code",
   "execution_count": 18,
   "metadata": {},
   "outputs": [
    {
     "name": "stdout",
     "output_type": "stream",
     "text": [
      "跳失率为：5.91%\n"
     ]
    }
   ],
   "source": [
    "data_pv=data1.loc[data1['be_type']=='pv',['cust_id']]   \n",
    "data_fav=data1.loc[data1['be_type']=='fav',['cust_id']]\n",
    "data_cart=data1.loc[data1['be_type']=='cart',['cust_id']]\n",
    "data_buy=data1.loc[data1['be_type']=='buy',['cust_id']]\n",
    "#集合相减，获取只有点击行为的用户数\n",
    "data_pv_only=set(data_pv['cust_id'])-set(data_fav['cust_id'])-set(data_cart['cust_id'])-set(data_buy['cust_id'])\n",
    "pv_only=len(data_pv_only)\n",
    "print('跳失率为：%.2f%%'%(pv_only/UV*100))"
   ]
  },
  {
   "cell_type": "raw",
   "metadata": {},
   "source": [
    "分析：跳失率为5.91%，数值看上去较小，但跳失率一定程度上反映了商品的受欢迎程度，最好还是结合行业数据和以往数据分析是否处于正常范围。\n",
    "影响跳失率的相关因素有：商品吸引力、商品加载时长以及流量的质量等。"
   ]
  },
  {
   "cell_type": "raw",
   "metadata": {},
   "source": [
    "按天进行PV统计"
   ]
  },
  {
   "cell_type": "code",
   "execution_count": 19,
   "metadata": {},
   "outputs": [],
   "source": [
    "pv_day= data1[data1.be_type=='pv'].groupby('buy_time')['be_type'].count()"
   ]
  },
  {
   "cell_type": "code",
   "execution_count": 20,
   "metadata": {},
   "outputs": [
    {
     "data": {
      "text/plain": [
       "buy_time\n",
       "2019-11-05     957020\n",
       "2019-11-06     973800\n",
       "2019-11-07     915255\n",
       "2019-11-08     896779\n",
       "2019-11-09     937196\n",
       "2019-11-10     949846\n",
       "2019-11-11     995060\n",
       "2019-11-12    1265050\n",
       "2019-11-13    1255052\n",
       "Name: be_type, dtype: int64"
      ]
     },
     "execution_count": 20,
     "metadata": {},
     "output_type": "execute_result"
    }
   ],
   "source": [
    "pv_day"
   ]
  },
  {
   "cell_type": "raw",
   "metadata": {},
   "source": [
    "按天进行UV统计"
   ]
  },
  {
   "cell_type": "code",
   "execution_count": 21,
   "metadata": {},
   "outputs": [],
   "source": [
    "uv_day=data1[data1.be_type=='pv'].drop_duplicates(['cust_id','buy_time']).groupby('buy_time')['cust_id'].count()"
   ]
  },
  {
   "cell_type": "code",
   "execution_count": 22,
   "metadata": {},
   "outputs": [
    {
     "data": {
      "text/plain": [
       "buy_time\n",
       "2019-11-05    69349\n",
       "2019-11-06    70190\n",
       "2019-11-07    69450\n",
       "2019-11-08    69536\n",
       "2019-11-09    70182\n",
       "2019-11-10    71558\n",
       "2019-11-11    72542\n",
       "2019-11-12    95068\n",
       "2019-11-13    94874\n",
       "Name: cust_id, dtype: int64"
      ]
     },
     "execution_count": 22,
     "metadata": {},
     "output_type": "execute_result"
    }
   ],
   "source": [
    "uv_day"
   ]
  },
  {
   "cell_type": "raw",
   "metadata": {},
   "source": [
    "画图"
   ]
  },
  {
   "cell_type": "code",
   "execution_count": 23,
   "metadata": {},
   "outputs": [],
   "source": [
    "attr = pv_day.index"
   ]
  },
  {
   "cell_type": "code",
   "execution_count": 24,
   "metadata": {},
   "outputs": [
    {
     "data": {
      "text/plain": [
       "Index([2019-11-05, 2019-11-06, 2019-11-07, 2019-11-08, 2019-11-09, 2019-11-10,\n",
       "       2019-11-11, 2019-11-12, 2019-11-13],\n",
       "      dtype='object', name='buy_time')"
      ]
     },
     "execution_count": 24,
     "metadata": {},
     "output_type": "execute_result"
    }
   ],
   "source": [
    "attr "
   ]
  },
  {
   "cell_type": "code",
   "execution_count": 25,
   "metadata": {},
   "outputs": [],
   "source": [
    "v1 = pv_day.values\n",
    "v2 = uv_day.values"
   ]
  },
  {
   "cell_type": "code",
   "execution_count": 26,
   "metadata": {},
   "outputs": [
    {
     "data": {
      "text/plain": [
       "array([ 957020,  973800,  915255,  896779,  937196,  949846,  995060,\n",
       "       1265050, 1255052], dtype=int64)"
      ]
     },
     "execution_count": 26,
     "metadata": {},
     "output_type": "execute_result"
    }
   ],
   "source": [
    "v1"
   ]
  },
  {
   "cell_type": "code",
   "execution_count": 29,
   "metadata": {},
   "outputs": [
    {
     "data": {
      "text/plain": [
       "array([69349, 70190, 69450, 69536, 70182, 71558, 72542, 95068, 94874],\n",
       "      dtype=int64)"
      ]
     },
     "execution_count": 29,
     "metadata": {},
     "output_type": "execute_result"
    }
   ],
   "source": [
    "v2"
   ]
  },
  {
   "cell_type": "code",
   "execution_count": 27,
   "metadata": {},
   "outputs": [],
   "source": [
    "#解决中文显示问题\n",
    "plt.rcParams['font.sans-serif']=['SimHei']\n",
    "plt.rcParams['axes.unicode_minus']=False"
   ]
  },
  {
   "cell_type": "code",
   "execution_count": 28,
   "metadata": {},
   "outputs": [
    {
     "data": {
      "text/plain": [
       "Text(0, 0.5, 'PV')"
      ]
     },
     "execution_count": 28,
     "metadata": {},
     "output_type": "execute_result"
    },
    {
     "data": {
      "image/png": "[encoded data removed]",
      "text/plain": [
       "<Figure size 576x360 with 1 Axes>"
      ]
     },
     "metadata": {
      "needs_background": "light"
     },
     "output_type": "display_data"
    }
   ],
   "source": [
    "#设置线宽\n",
    "plt.figure(figsize=(8, 5))\n",
    "plt.plot(attr,v1,linewidth=4)\n",
    "#设置图表标题，并给坐标轴添加标签\n",
    "plt.title(\"日点击量趋势图\",fontsize=20)\n",
    "plt.xlabel('日期',fontsize=10)\n",
    "plt.ylabel('PV',fontsize=10)"
   ]
  },
  {
   "cell_type": "code",
   "execution_count": 23,
   "metadata": {},
   "outputs": [
    {
     "data": {
      "image/png": "[encoded data removed]",
      "text/plain": [
       "<Figure size 432x432 with 2 Axes>"
      ]
     },
     "metadata": {
      "needs_background": "light"
     },
     "output_type": "display_data"
    }
   ],
   "source": [
    "#折线图绘制\n",
    "fig = plt.figure(figsize=(6,6))      \n",
    "plt.subplot(2,1,1)  \n",
    "xlabel=attr\n",
    "plt.plot(range(len(xlabel)),v1)   \n",
    "plt.xticks(np.arange(9),'')  \n",
    "plt.title('日点击量趋势图')\n",
    "plt.ylabel('日pv')\n",
    "for a,b in zip(range(len(xlabel)),v1):\n",
    "    plt.text(a, b, b, ha='center', va='bottom', fontsize=10)   \n",
    "plt.subplot(2,1,2)\n",
    "plt.plot(range(len(xlabel)),v2) \n",
    "plt.xticks(np.arange(9),('11-05 周二','11-06 周三','11-07 周四','11-08 周五','11-09 周六','11-10 周日','12-11 周一','11-12 周二','11-13 周三'),rotation=45)\n",
    "plt.title('日独立访客数趋势图')\n",
    "plt.ylabel('日uv')\n",
    "for a,b in zip(range(len(xlabel)),v2):\n",
    "    plt.text(a, b, b, ha='center', va='bottom', fontsize=10)\n",
    "plt.show()"
   ]
  },
  {
   "cell_type": "raw",
   "metadata": {},
   "source": [
    "数据分析：PV、UV两者走势趋势相同，符合正常规律，在11月11号的时候，PV、UV呈上涨趋势，而上周并未出现这种情况，推测为因为双\n",
    "          11活动而带来的流量"
   ]
  },
  {
   "cell_type": "raw",
   "metadata": {},
   "source": [
    "按小时进行PV、UV统计"
   ]
  },
  {
   "cell_type": "code",
   "execution_count": 29,
   "metadata": {},
   "outputs": [],
   "source": [
    "pv_hour=data1.groupby('hours')['cust_id'].count().reset_index().rename(columns={'用户ID':'pv'})\n",
    "uv_hour=data1.groupby('hours')['cust_id'].apply(lambda x:x.drop_duplicates().count()).reset_index().rename(columns={'用户ID':'时uv'})"
   ]
  },
  {
   "cell_type": "code",
   "execution_count": 30,
   "metadata": {},
   "outputs": [
    {
     "data": {
      "text/html": [
       "<div>\n",
       "<style scoped>\n",
       "    .dataframe tbody tr th:only-of-type {\n",
       "        vertical-align: middle;\n",
       "    }\n",
       "\n",
       "    .dataframe tbody tr th {\n",
       "        vertical-align: top;\n",
       "    }\n",
       "\n",
       "    .dataframe thead th {\n",
       "        text-align: right;\n",
       "    }\n",
       "</style>\n",
       "<table border=\"1\" class=\"dataframe\">\n",
       "  <thead>\n",
       "    <tr style=\"text-align: right;\">\n",
       "      <th></th>\n",
       "      <th>hours</th>\n",
       "      <th>cust_id</th>\n",
       "    </tr>\n",
       "  </thead>\n",
       "  <tbody>\n",
       "    <tr>\n",
       "      <th>0</th>\n",
       "      <td>0</td>\n",
       "      <td>342716</td>\n",
       "    </tr>\n",
       "    <tr>\n",
       "      <th>1</th>\n",
       "      <td>1</td>\n",
       "      <td>155172</td>\n",
       "    </tr>\n",
       "    <tr>\n",
       "      <th>2</th>\n",
       "      <td>2</td>\n",
       "      <td>84458</td>\n",
       "    </tr>\n",
       "    <tr>\n",
       "      <th>3</th>\n",
       "      <td>3</td>\n",
       "      <td>57846</td>\n",
       "    </tr>\n",
       "    <tr>\n",
       "      <th>4</th>\n",
       "      <td>4</td>\n",
       "      <td>49128</td>\n",
       "    </tr>\n",
       "  </tbody>\n",
       "</table>\n",
       "</div>"
      ],
      "text/plain": [
       "   hours  cust_id\n",
       "0      0   342716\n",
       "1      1   155172\n",
       "2      2    84458\n",
       "3      3    57846\n",
       "4      4    49128"
      ]
     },
     "execution_count": 30,
     "metadata": {},
     "output_type": "execute_result"
    }
   ],
   "source": [
    "pv_hour.head()"
   ]
  },
  {
   "cell_type": "code",
   "execution_count": 31,
   "metadata": {},
   "outputs": [
    {
     "data": {
      "text/plain": [
       "Text(0.5, 1.0, '按小时独立访客数趋势图')"
      ]
     },
     "execution_count": 31,
     "metadata": {},
     "output_type": "execute_result"
    },
    {
     "data": {
      "image/png": "[encoded data removed]",
      "text/plain": [
       "<Figure size 432x288 with 2 Axes>"
      ]
     },
     "metadata": {
      "needs_background": "light"
     },
     "output_type": "display_data"
    }
   ],
   "source": [
    "fig,axes=plt.subplots(2,1,sharex=True)\n",
    "pv_hour.plot(x='hours',y='cust_id',ax=axes[0])\n",
    "uv_hour.plot(x='hours',y='cust_id',ax=axes[1])\n",
    "plt.xticks(range(24),np.arange(24))\n",
    "axes[0].set_title('按小时点击量趋势图')\n",
    "axes[1].set_title('按小时独立访客数趋势图')"
   ]
  },
  {
   "cell_type": "raw",
   "metadata": {},
   "source": [
    "数据分析：每天凌晨0-6点是点击量最少的时间，同时也是用户访问量最少的情况；10-22点为用户活跃高峰期，可在用户活跃\n",
    "          高峰期的时候增加活动宣传力度"
   ]
  },
  {
   "cell_type": "raw",
   "metadata": {},
   "source": [
    "留存率\n",
    "计算逻辑：识别出指定日期的新用户集合，记用户量为b\n",
    "得到第n天用户集合\n",
    "识别、计算指定日期新用户在第n天仍使用产品的数量，记用户量为a\n",
    "留存率=a/b"
   ]
  },
  {
   "cell_type": "code",
   "execution_count": 32,
   "metadata": {},
   "outputs": [],
   "source": [
    "def cal_retention(data,n): #n为n日留存\n",
    "    user=[]\n",
    "    date=pd.Series(data.buy_time.unique()).sort_values()[:-n] #时间截取至最后一天的前n天\n",
    "    retention_rates=[]\n",
    "    for i in date:\n",
    "        new_user=set(data[data.buy_time==i].cust_id.unique())-set(user) #识别新用户，本案例中设初始用户量为零\n",
    "        user.extend(new_user)  #将新用户加入用户群中\n",
    "        #第n天留存情况\n",
    "        user_nday=data[data.buy_time==i+timedelta(n)].cust_id.unique() #第n天登录的用户情况\n",
    "        a=0\n",
    "        for cust_id in user_nday:\n",
    "            if cust_id in new_user:\n",
    "                a+=1\n",
    "        retention_rate=a/len(new_user) #计算该天第n日留存率\n",
    "        retention_rates.append(retention_rate) #汇总n日留存数据\n",
    "    data_retention=pd.Series(retention_rates,index=date)\n",
    "    return data_retention\n",
    "\n",
    "data_retention=cal_retention(data1,3)  #求用户的3日留存情况"
   ]
  },
  {
   "cell_type": "code",
   "execution_count": 33,
   "metadata": {},
   "outputs": [
    {
     "data": {
      "text/plain": [
       "2019-11-05    0.758306\n",
       "2019-11-06    0.659058\n",
       "2019-11-07    0.644157\n",
       "2019-11-08    0.669378\n",
       "2019-11-09    0.966176\n",
       "2019-11-10    0.951292\n",
       "dtype: float64"
      ]
     },
     "execution_count": 33,
     "metadata": {},
     "output_type": "execute_result"
    }
   ],
   "source": [
    "data_retention"
   ]
  },
  {
   "cell_type": "raw",
   "metadata": {},
   "source": [
    "购买人数与购买率"
   ]
  },
  {
   "cell_type": "code",
   "execution_count": 34,
   "metadata": {},
   "outputs": [],
   "source": [
    "from pyecharts import Line, Bar, Overlap\n",
    "day_buy_user_num = data1[data1.be_type == 'buy'].drop_duplicates(['cust_id', 'buy_time']).groupby('buy_time')['cust_id'].count()\n",
    "day_active_user_num = data1.drop_duplicates(['cust_id', 'buy_time']).groupby('buy_time')['cust_id'].count()\n",
    "day_buy_rate = day_buy_user_num / day_active_user_num\n",
    "attr = day_buy_user_num.index\n",
    "v1 = day_buy_user_num.values\n",
    "v2 = day_buy_rate.values"
   ]
  },
  {
   "cell_type": "code",
   "execution_count": 35,
   "metadata": {},
   "outputs": [
    {
     "data": {
      "text/plain": [
       "Text(0, 0.5, 'PV')"
      ]
     },
     "execution_count": 35,
     "metadata": {},
     "output_type": "execute_result"
    },
    {
     "data": {
      "image/png": "[encoded data removed]",
      "text/plain": [
       "<Figure size 576x360 with 1 Axes>"
      ]
     },
     "metadata": {
      "needs_background": "light"
     },
     "output_type": "display_data"
    }
   ],
   "source": [
    "#设置线宽\n",
    "plt.figure(figsize=(8, 5))\n",
    "plt.plot(attr,v1,linewidth=4)\n",
    "#设置图表标题，并给坐标轴添加标签\n",
    "plt.title(\"日购买人数趋势图\",fontsize=20)\n",
    "plt.xlabel('日期',fontsize=10)\n",
    "plt.ylabel('PV',fontsize=10)"
   ]
  },
  {
   "cell_type": "code",
   "execution_count": 36,
   "metadata": {},
   "outputs": [
    {
     "data": {
      "text/plain": [
       "Text(0, 0.5, 'PV')"
      ]
     },
     "execution_count": 36,
     "metadata": {},
     "output_type": "execute_result"
    },
    {
     "data": {
      "image/png": "[encoded data removed]",
      "text/plain": [
       "<Figure size 576x360 with 1 Axes>"
      ]
     },
     "metadata": {
      "needs_background": "light"
     },
     "output_type": "display_data"
    }
   ],
   "source": [
    "#设置线宽\n",
    "plt.figure(figsize=(8, 5))\n",
    "plt.plot(attr,v2,linewidth=4)\n",
    "#设置图表标题，并给坐标轴添加标签\n",
    "plt.title(\"日购买率趋势图\",fontsize=20)\n",
    "plt.xlabel('日期',fontsize=10)\n",
    "plt.ylabel('PV',fontsize=10)"
   ]
  },
  {
   "cell_type": "raw",
   "metadata": {},
   "source": [
    "数据分析：购买人数和购买率走势在11月10号之前大致相同，从11号开始购买人数有增加，但与之前相比购买\n",
    "          率在减少，此时应优化产品及增加推广力度。"
   ]
  },
  {
   "cell_type": "raw",
   "metadata": {},
   "source": [
    "复购率\n",
    "复购指两天以上有购买行为,一天多次购买算一次，复购率=有复购行为的用户数/有购买行为的用户总数"
   ]
  },
  {
   "cell_type": "code",
   "execution_count": 37,
   "metadata": {},
   "outputs": [
    {
     "data": {
      "text/plain": [
       "0.6357834539478533"
      ]
     },
     "execution_count": 37,
     "metadata": {},
     "output_type": "execute_result"
    }
   ],
   "source": [
    "df_rebuy = data1[data1.be_type == 'buy'].drop_duplicates(['cust_id', 'day_id']).groupby('cust_id')['day_id'].count()\n",
    "df_rebuy[df_rebuy >= 2].count() / df_rebuy.count()"
   ]
  },
  {
   "cell_type": "code",
   "execution_count": null,
   "metadata": {},
   "outputs": [],
   "source": []
  },
  {
   "cell_type": "raw",
   "metadata": {},
   "source": [
    "用户流失漏斗分析"
   ]
  },
  {
   "cell_type": "code",
   "execution_count": 43,
   "metadata": {},
   "outputs": [
    {
     "name": "stdout",
     "output_type": "stream",
     "text": [
      "收藏加购转化率为:9.51%\n",
      "购买转化率为:2.22%\n"
     ]
    }
   ],
   "source": [
    "data_AARR=data1.groupby('be_type')['cust_id'].count()\n",
    "#点击量\n",
    "pv_value=data_AARR['pv']\n",
    "#收藏量\n",
    "fav_value=data_AARR['fav']\n",
    "#加购量\n",
    "cart_value=data_AARR['cart']\n",
    "#购买量\n",
    "buy_value=data_AARR['buy']\n",
    "##计算转化率，此处由于实际业务中用户收藏和加购没有先后顺序，所以二者合并后计算转化率\n",
    "#收藏加购转化率\n",
    "f_c_value=fav_value+cart_value\n",
    "f_c_ratio=f_c_value/pv_value\n",
    "print('收藏加购转化率为:%.2f%%'%(f_c_ratio*100))\n",
    "#购买转化率\n",
    "buy_ratio=buy_value/pv_value\n",
    "print('购买转化率为:%.2f%%'%(buy_ratio*100))\n"
   ]
  },
  {
   "cell_type": "code",
   "execution_count": 44,
   "metadata": {},
   "outputs": [],
   "source": [
    "from pyecharts import Funnel\n",
    "pv_users = data1[data1.be_type == 'pv']['cust_id'].count()\n",
    "fav_users = data1[data1.be_type == 'fav']['cust_id'].count()\n",
    "cart_users =data1[data1.be_type == 'cart']['cust_id'].count()\n",
    "buy_users = data1[data1.be_type == 'buy']['cust_id'].count()\n",
    "attr = ['点击', '加入购物车', '收藏', '购买']\n",
    "values = [np.around((pv_users / pv_users * 100), 2),\n",
    "         np.around((cart_users / pv_users * 100), 2),\n",
    "         np.around((fav_users / pv_users * 100), 2),\n",
    "         np.around((buy_users / pv_users * 100), 2)]\n"
   ]
  },
  {
   "cell_type": "code",
   "execution_count": 14,
   "metadata": {},
   "outputs": [
    {
     "name": "stderr",
     "output_type": "stream",
     "text": [
      "E:\\anaconda\\lib\\site-packages\\pyecharts\\base.py:176: UserWarning: Implementation has been removed. Please pass the chart instance directly to Jupyter.If you need more help, please read documentation\n",
      "  + \"If you need more help, please read documentation\"\n"
     ]
    }
   ],
   "source": [
    "funnel1 = Funnel('总体转化漏斗图', title_pos='center')\n",
    "funnel1.add(name='环节',  # 指定图例名称\n",
    "            attr=attr,  # 指定属性名称\n",
    "            value=values,  # 指定属性所对应的值\n",
    "            is_label_show=True,  # 确认显示标签\n",
    "            label_formatter='{c}'+'%',  # 指定标签显示的方式\n",
    "            legend_top='bottom',    # 指定图例位置，为避免遮盖选择右下展示\n",
    "            # pyecharts包的文档中指出，当label_formatter='{d}'时,标签以百分比的形式显示.\n",
    "            # 但我这样做的时候,发现显示的百分比与原始数据对应不上,只好用上面那种显示形式\n",
    "\n",
    "            label_pos='outside',  # 指定标签的位置,inside,outside\n",
    "            legend_orient='vertical',  # 指定图例显示的方向\n",
    "            legend_pos='right')  # 指定图例的位置\n",
    "\n",
    "funnel1.render_notebook()"
   ]
  },
  {
   "cell_type": "code",
   "execution_count": null,
   "metadata": {},
   "outputs": [],
   "source": []
  },
  {
   "cell_type": "code",
   "execution_count": null,
   "metadata": {},
   "outputs": [],
   "source": []
  },
  {
   "cell_type": "raw",
   "metadata": {},
   "source": [
    "作业代码"
   ]
  },
  {
   "cell_type": "raw",
   "metadata": {},
   "source": [
    "商品维度的分析"
   ]
  },
  {
   "cell_type": "code",
   "execution_count": 30,
   "metadata": {},
   "outputs": [],
   "source": [
    "import seaborn as sns"
   ]
  },
  {
   "cell_type": "raw",
   "metadata": {},
   "source": [
    "购买产品类目计数"
   ]
  },
  {
   "cell_type": "code",
   "execution_count": 50,
   "metadata": {},
   "outputs": [],
   "source": [
    "product_buy=data1.loc[data1['be_type']=='buy',['cust_id','group_id']]\n",
    "product_buy_count=product_buy.groupby('group_id')['cust_id'].count().rename('销售次数')"
   ]
  },
  {
   "cell_type": "raw",
   "metadata": {},
   "source": [
    "转换为数据框，按列排序"
   ]
  },
  {
   "cell_type": "code",
   "execution_count": 52,
   "metadata": {},
   "outputs": [],
   "source": [
    "product_buy_count=pd.DataFrame(product_buy_count) "
   ]
  },
  {
   "cell_type": "raw",
   "metadata": {},
   "source": [
    "按照销售次数降序排序"
   ]
  },
  {
   "cell_type": "code",
   "execution_count": 53,
   "metadata": {},
   "outputs": [],
   "source": [
    "product_buy_count=product_buy_count.sort_values(by='销售次数',axis=0,ascending = False)"
   ]
  },
  {
   "cell_type": "raw",
   "metadata": {},
   "source": [
    "购买产品类目前10名"
   ]
  },
  {
   "cell_type": "code",
   "execution_count": 54,
   "metadata": {},
   "outputs": [
    {
     "data": {
      "text/html": [
       "<div>\n",
       "<style scoped>\n",
       "    .dataframe tbody tr th:only-of-type {\n",
       "        vertical-align: middle;\n",
       "    }\n",
       "\n",
       "    .dataframe tbody tr th {\n",
       "        vertical-align: top;\n",
       "    }\n",
       "\n",
       "    .dataframe thead th {\n",
       "        text-align: right;\n",
       "    }\n",
       "</style>\n",
       "<table border=\"1\" class=\"dataframe\">\n",
       "  <thead>\n",
       "    <tr style=\"text-align: right;\">\n",
       "      <th></th>\n",
       "      <th>销售次数</th>\n",
       "    </tr>\n",
       "    <tr>\n",
       "      <th>group_id</th>\n",
       "      <th></th>\n",
       "    </tr>\n",
       "  </thead>\n",
       "  <tbody>\n",
       "    <tr>\n",
       "      <th>1464217</th>\n",
       "      <td>3681</td>\n",
       "    </tr>\n",
       "    <tr>\n",
       "      <th>2735567</th>\n",
       "      <td>3630</td>\n",
       "    </tr>\n",
       "    <tr>\n",
       "      <th>4145914</th>\n",
       "      <td>3282</td>\n",
       "    </tr>\n",
       "    <tr>\n",
       "      <th>2885743</th>\n",
       "      <td>3165</td>\n",
       "    </tr>\n",
       "    <tr>\n",
       "      <th>4756206</th>\n",
       "      <td>3032</td>\n",
       "    </tr>\n",
       "    <tr>\n",
       "      <th>4801527</th>\n",
       "      <td>2725</td>\n",
       "    </tr>\n",
       "    <tr>\n",
       "      <th>983027</th>\n",
       "      <td>2533</td>\n",
       "    </tr>\n",
       "    <tr>\n",
       "      <th>1320394</th>\n",
       "      <td>1804</td>\n",
       "    </tr>\n",
       "    <tr>\n",
       "      <th>4159173</th>\n",
       "      <td>1802</td>\n",
       "    </tr>\n",
       "    <tr>\n",
       "      <th>3002662</th>\n",
       "      <td>1802</td>\n",
       "    </tr>\n",
       "  </tbody>\n",
       "</table>\n",
       "</div>"
      ],
      "text/plain": [
       "          销售次数\n",
       "group_id      \n",
       "1464217   3681\n",
       "2735567   3630\n",
       "4145914   3282\n",
       "2885743   3165\n",
       "4756206   3032\n",
       "4801527   2725\n",
       "983027    2533\n",
       "1320394   1804\n",
       "4159173   1802\n",
       "3002662   1802"
      ]
     },
     "execution_count": 54,
     "metadata": {},
     "output_type": "execute_result"
    }
   ],
   "source": [
    "product_buy_count=product_buy_count.iloc[:10,:]\n",
    "product_buy_count"
   ]
  },
  {
   "cell_type": "raw",
   "metadata": {},
   "source": [
    "点击商品计数"
   ]
  },
  {
   "cell_type": "code",
   "execution_count": 55,
   "metadata": {},
   "outputs": [
    {
     "data": {
      "text/html": [
       "<div>\n",
       "<style scoped>\n",
       "    .dataframe tbody tr th:only-of-type {\n",
       "        vertical-align: middle;\n",
       "    }\n",
       "\n",
       "    .dataframe tbody tr th {\n",
       "        vertical-align: top;\n",
       "    }\n",
       "\n",
       "    .dataframe thead th {\n",
       "        text-align: right;\n",
       "    }\n",
       "</style>\n",
       "<table border=\"1\" class=\"dataframe\">\n",
       "  <thead>\n",
       "    <tr style=\"text-align: right;\">\n",
       "      <th></th>\n",
       "      <th>点击次数</th>\n",
       "    </tr>\n",
       "    <tr>\n",
       "      <th>group_id</th>\n",
       "      <th></th>\n",
       "    </tr>\n",
       "  </thead>\n",
       "  <tbody>\n",
       "    <tr>\n",
       "      <th>4756206</th>\n",
       "      <td>490366</td>\n",
       "    </tr>\n",
       "    <tr>\n",
       "      <th>4145914</th>\n",
       "      <td>334181</td>\n",
       "    </tr>\n",
       "    <tr>\n",
       "      <th>2355173</th>\n",
       "      <td>328051</td>\n",
       "    </tr>\n",
       "    <tr>\n",
       "      <th>3607462</th>\n",
       "      <td>304453</td>\n",
       "    </tr>\n",
       "    <tr>\n",
       "      <th>983027</th>\n",
       "      <td>286615</td>\n",
       "    </tr>\n",
       "    <tr>\n",
       "      <th>2520478</th>\n",
       "      <td>204187</td>\n",
       "    </tr>\n",
       "    <tr>\n",
       "      <th>4801527</th>\n",
       "      <td>196441</td>\n",
       "    </tr>\n",
       "    <tr>\n",
       "      <th>1320394</th>\n",
       "      <td>183155</td>\n",
       "    </tr>\n",
       "    <tr>\n",
       "      <th>2465437</th>\n",
       "      <td>159394</td>\n",
       "    </tr>\n",
       "    <tr>\n",
       "      <th>3002662</th>\n",
       "      <td>149539</td>\n",
       "    </tr>\n",
       "  </tbody>\n",
       "</table>\n",
       "</div>"
      ],
      "text/plain": [
       "            点击次数\n",
       "group_id        \n",
       "4756206   490366\n",
       "4145914   334181\n",
       "2355173   328051\n",
       "3607462   304453\n",
       "983027    286615\n",
       "2520478   204187\n",
       "4801527   196441\n",
       "1320394   183155\n",
       "2465437   159394\n",
       "3002662   149539"
      ]
     },
     "execution_count": 55,
     "metadata": {},
     "output_type": "execute_result"
    }
   ],
   "source": [
    "product_pv=data1.loc[data1['be_type']=='pv',['cust_id','group_id']]\n",
    "product_pv_count=product_pv.groupby('group_id')['cust_id'].count().rename('点击次数')\n",
    "product_pv_count=pd.DataFrame(product_pv_count)   \n",
    "product_pv_count=product_pv_count.sort_values(by='点击次数',axis=0,ascending = False)\n",
    "product_pv_count=product_pv_count.iloc[:10,:]\n",
    "product_pv_count"
   ]
  },
  {
   "cell_type": "raw",
   "metadata": {},
   "source": [
    "商品购买次数和种类统计"
   ]
  },
  {
   "cell_type": "code",
   "execution_count": 56,
   "metadata": {},
   "outputs": [
    {
     "data": {
      "text/html": [
       "<div>\n",
       "<style scoped>\n",
       "    .dataframe tbody tr th:only-of-type {\n",
       "        vertical-align: middle;\n",
       "    }\n",
       "\n",
       "    .dataframe tbody tr th {\n",
       "        vertical-align: top;\n",
       "    }\n",
       "\n",
       "    .dataframe thead th {\n",
       "        text-align: right;\n",
       "    }\n",
       "</style>\n",
       "<table border=\"1\" class=\"dataframe\">\n",
       "  <thead>\n",
       "    <tr style=\"text-align: right;\">\n",
       "      <th>be_type</th>\n",
       "      <th>购买量</th>\n",
       "      <th>加购量</th>\n",
       "      <th>收藏量</th>\n",
       "      <th>点击量</th>\n",
       "      <th>转化率</th>\n",
       "    </tr>\n",
       "    <tr>\n",
       "      <th>group_id</th>\n",
       "      <th></th>\n",
       "      <th></th>\n",
       "      <th></th>\n",
       "      <th></th>\n",
       "      <th></th>\n",
       "    </tr>\n",
       "  </thead>\n",
       "  <tbody>\n",
       "    <tr>\n",
       "      <th>2272</th>\n",
       "      <td>12.0</td>\n",
       "      <td>14.0</td>\n",
       "      <td>8.0</td>\n",
       "      <td>118.0</td>\n",
       "      <td>0.101695</td>\n",
       "    </tr>\n",
       "    <tr>\n",
       "      <th>2511</th>\n",
       "      <td>1.0</td>\n",
       "      <td>4.0</td>\n",
       "      <td>2.0</td>\n",
       "      <td>87.0</td>\n",
       "      <td>0.011494</td>\n",
       "    </tr>\n",
       "    <tr>\n",
       "      <th>2919</th>\n",
       "      <td>2.0</td>\n",
       "      <td>0.0</td>\n",
       "      <td>0.0</td>\n",
       "      <td>3.0</td>\n",
       "      <td>0.666667</td>\n",
       "    </tr>\n",
       "    <tr>\n",
       "      <th>3680</th>\n",
       "      <td>0.0</td>\n",
       "      <td>0.0</td>\n",
       "      <td>0.0</td>\n",
       "      <td>10.0</td>\n",
       "      <td>0.000000</td>\n",
       "    </tr>\n",
       "    <tr>\n",
       "      <th>5008</th>\n",
       "      <td>0.0</td>\n",
       "      <td>5.0</td>\n",
       "      <td>0.0</td>\n",
       "      <td>25.0</td>\n",
       "      <td>0.000000</td>\n",
       "    </tr>\n",
       "  </tbody>\n",
       "</table>\n",
       "</div>"
      ],
      "text/plain": [
       "be_type    购买量   加购量  收藏量    点击量       转化率\n",
       "group_id                                  \n",
       "2272      12.0  14.0  8.0  118.0  0.101695\n",
       "2511       1.0   4.0  2.0   87.0  0.011494\n",
       "2919       2.0   0.0  0.0    3.0  0.666667\n",
       "3680       0.0   0.0  0.0   10.0  0.000000\n",
       "5008       0.0   5.0  0.0   25.0  0.000000"
      ]
     },
     "execution_count": 56,
     "metadata": {},
     "output_type": "execute_result"
    }
   ],
   "source": [
    "item_behavior=data.groupby(['group_id','be_type'])['cust_id'].count().unstack(1).rename(columns={'pv':'点击量','fav':'收藏量','cart':'加购量','buy':'购买量'}).fillna(0)\n",
    "item_behavior.head()\n",
    "item_behavior['转化率']=item_behavior['购买量']/item_behavior['点击量']\n",
    "item_behavior.head()"
   ]
  },
  {
   "cell_type": "raw",
   "metadata": {},
   "source": [
    "点击量前十和购买量前十商品类目连接"
   ]
  },
  {
   "cell_type": "code",
   "execution_count": 57,
   "metadata": {},
   "outputs": [
    {
     "data": {
      "text/html": [
       "<div>\n",
       "<style scoped>\n",
       "    .dataframe tbody tr th:only-of-type {\n",
       "        vertical-align: middle;\n",
       "    }\n",
       "\n",
       "    .dataframe tbody tr th {\n",
       "        vertical-align: top;\n",
       "    }\n",
       "\n",
       "    .dataframe thead th {\n",
       "        text-align: right;\n",
       "    }\n",
       "</style>\n",
       "<table border=\"1\" class=\"dataframe\">\n",
       "  <thead>\n",
       "    <tr style=\"text-align: right;\">\n",
       "      <th></th>\n",
       "      <th>销售次数</th>\n",
       "      <th>点击次数</th>\n",
       "    </tr>\n",
       "    <tr>\n",
       "      <th>group_id</th>\n",
       "      <th></th>\n",
       "      <th></th>\n",
       "    </tr>\n",
       "  </thead>\n",
       "  <tbody>\n",
       "    <tr>\n",
       "      <th>983027</th>\n",
       "      <td>2533.0</td>\n",
       "      <td>286615.0</td>\n",
       "    </tr>\n",
       "    <tr>\n",
       "      <th>1320394</th>\n",
       "      <td>1804.0</td>\n",
       "      <td>183155.0</td>\n",
       "    </tr>\n",
       "    <tr>\n",
       "      <th>1464217</th>\n",
       "      <td>3681.0</td>\n",
       "      <td>NaN</td>\n",
       "    </tr>\n",
       "    <tr>\n",
       "      <th>2355173</th>\n",
       "      <td>NaN</td>\n",
       "      <td>328051.0</td>\n",
       "    </tr>\n",
       "    <tr>\n",
       "      <th>2465437</th>\n",
       "      <td>NaN</td>\n",
       "      <td>159394.0</td>\n",
       "    </tr>\n",
       "    <tr>\n",
       "      <th>2520478</th>\n",
       "      <td>NaN</td>\n",
       "      <td>204187.0</td>\n",
       "    </tr>\n",
       "    <tr>\n",
       "      <th>2735567</th>\n",
       "      <td>3630.0</td>\n",
       "      <td>NaN</td>\n",
       "    </tr>\n",
       "    <tr>\n",
       "      <th>2885743</th>\n",
       "      <td>3165.0</td>\n",
       "      <td>NaN</td>\n",
       "    </tr>\n",
       "    <tr>\n",
       "      <th>3002662</th>\n",
       "      <td>1802.0</td>\n",
       "      <td>149539.0</td>\n",
       "    </tr>\n",
       "    <tr>\n",
       "      <th>3607462</th>\n",
       "      <td>NaN</td>\n",
       "      <td>304453.0</td>\n",
       "    </tr>\n",
       "    <tr>\n",
       "      <th>4145914</th>\n",
       "      <td>3282.0</td>\n",
       "      <td>334181.0</td>\n",
       "    </tr>\n",
       "    <tr>\n",
       "      <th>4159173</th>\n",
       "      <td>1802.0</td>\n",
       "      <td>NaN</td>\n",
       "    </tr>\n",
       "    <tr>\n",
       "      <th>4756206</th>\n",
       "      <td>3032.0</td>\n",
       "      <td>490366.0</td>\n",
       "    </tr>\n",
       "    <tr>\n",
       "      <th>4801527</th>\n",
       "      <td>2725.0</td>\n",
       "      <td>196441.0</td>\n",
       "    </tr>\n",
       "  </tbody>\n",
       "</table>\n",
       "</div>"
      ],
      "text/plain": [
       "            销售次数      点击次数\n",
       "group_id                  \n",
       "983027    2533.0  286615.0\n",
       "1320394   1804.0  183155.0\n",
       "1464217   3681.0       NaN\n",
       "2355173      NaN  328051.0\n",
       "2465437      NaN  159394.0\n",
       "2520478      NaN  204187.0\n",
       "2735567   3630.0       NaN\n",
       "2885743   3165.0       NaN\n",
       "3002662   1802.0  149539.0\n",
       "3607462      NaN  304453.0\n",
       "4145914   3282.0  334181.0\n",
       "4159173   1802.0       NaN\n",
       "4756206   3032.0  490366.0\n",
       "4801527   2725.0  196441.0"
      ]
     },
     "execution_count": 57,
     "metadata": {},
     "output_type": "execute_result"
    }
   ],
   "source": [
    "top=pd.concat([product_buy_count,product_pv_count],axis=1,sort=False)\n",
    "top"
   ]
  },
  {
   "cell_type": "code",
   "execution_count": null,
   "metadata": {},
   "outputs": [],
   "source": []
  }
 ],
 "metadata": {
  "kernelspec": {
   "display_name": "Python 3",
   "language": "python",
   "name": "python3"
  },
  "language_info": {
   "codemirror_mode": {
    "name": "ipython",
    "version": 3
   },
   "file_extension": ".py",
   "mimetype": "text/x-python",
   "name": "python",
   "nbconvert_exporter": "python",
   "pygments_lexer": "ipython3",
   "version": "3.7.1"
  }
 },
 "nbformat": 4,
 "nbformat_minor": 2
}
