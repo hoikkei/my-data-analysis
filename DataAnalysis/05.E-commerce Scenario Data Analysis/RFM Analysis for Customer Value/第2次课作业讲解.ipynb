{
 "cells": [
  {
   "cell_type": "raw",
   "metadata": {},
   "source": [
    "商品维度的分析"
   ]
  },
  {
   "cell_type": "code",
   "execution_count": 1,
   "metadata": {},
   "outputs": [
    {
     "data": {
      "text/html": [
       "<div>\n",
       "<style scoped>\n",
       "    .dataframe tbody tr th:only-of-type {\n",
       "        vertical-align: middle;\n",
       "    }\n",
       "\n",
       "    .dataframe tbody tr th {\n",
       "        vertical-align: top;\n",
       "    }\n",
       "\n",
       "    .dataframe thead th {\n",
       "        text-align: right;\n",
       "    }\n",
       "</style>\n",
       "<table border=\"1\" class=\"dataframe\">\n",
       "  <thead>\n",
       "    <tr style=\"text-align: right;\">\n",
       "      <th></th>\n",
       "      <th>Unnamed: 0</th>\n",
       "      <th>cust_id</th>\n",
       "      <th>prod_id</th>\n",
       "      <th>group_id</th>\n",
       "      <th>be_type</th>\n",
       "      <th>day_id</th>\n",
       "      <th>buy_time</th>\n",
       "    </tr>\n",
       "  </thead>\n",
       "  <tbody>\n",
       "    <tr>\n",
       "      <th>0</th>\n",
       "      <td>0</td>\n",
       "      <td>101</td>\n",
       "      <td>1305157</td>\n",
       "      <td>2520872</td>\n",
       "      <td>pv</td>\n",
       "      <td>2019-11-09 07:32:10</td>\n",
       "      <td>2019-11-09</td>\n",
       "    </tr>\n",
       "    <tr>\n",
       "      <th>1</th>\n",
       "      <td>1</td>\n",
       "      <td>101</td>\n",
       "      <td>1323287</td>\n",
       "      <td>3524611</td>\n",
       "      <td>pv</td>\n",
       "      <td>2019-11-12 01:30:35</td>\n",
       "      <td>2019-11-12</td>\n",
       "    </tr>\n",
       "    <tr>\n",
       "      <th>2</th>\n",
       "      <td>2</td>\n",
       "      <td>101</td>\n",
       "      <td>1338623</td>\n",
       "      <td>149293</td>\n",
       "      <td>pv</td>\n",
       "      <td>2019-11-07 17:00:14</td>\n",
       "      <td>2019-11-07</td>\n",
       "    </tr>\n",
       "    <tr>\n",
       "      <th>3</th>\n",
       "      <td>3</td>\n",
       "      <td>101</td>\n",
       "      <td>1341020</td>\n",
       "      <td>4690522</td>\n",
       "      <td>pv</td>\n",
       "      <td>2019-11-10 19:27:40</td>\n",
       "      <td>2019-11-10</td>\n",
       "    </tr>\n",
       "    <tr>\n",
       "      <th>4</th>\n",
       "      <td>4</td>\n",
       "      <td>101</td>\n",
       "      <td>1531134</td>\n",
       "      <td>2920577</td>\n",
       "      <td>pv</td>\n",
       "      <td>2019-11-07 06:02:12</td>\n",
       "      <td>2019-11-07</td>\n",
       "    </tr>\n",
       "  </tbody>\n",
       "</table>\n",
       "</div>"
      ],
      "text/plain": [
       "   Unnamed: 0  cust_id  prod_id  group_id be_type               day_id  \\\n",
       "0           0      101  1305157   2520872      pv  2019-11-09 07:32:10   \n",
       "1           1      101  1323287   3524611      pv  2019-11-12 01:30:35   \n",
       "2           2      101  1338623    149293      pv  2019-11-07 17:00:14   \n",
       "3           3      101  1341020   4690522      pv  2019-11-10 19:27:40   \n",
       "4           4      101  1531134   2920577      pv  2019-11-07 06:02:12   \n",
       "\n",
       "     buy_time  \n",
       "0  2019-11-09  \n",
       "1  2019-11-12  \n",
       "2  2019-11-07  \n",
       "3  2019-11-10  \n",
       "4  2019-11-07  "
      ]
     },
     "execution_count": 1,
     "metadata": {},
     "output_type": "execute_result"
    }
   ],
   "source": [
    "import pandas as pd\n",
    "import numpy as np\n",
    "import matplotlib.pyplot as plt\n",
    "%matplotlib inline\n",
    "import seaborn as sns\n",
    "df=pd.read_csv('C:/Users/jiang/Desktop/customer_behavior.csv',encoding='utf-8')\n",
    "df.head()"
   ]
  },
  {
   "cell_type": "code",
   "execution_count": 4,
   "metadata": {},
   "outputs": [],
   "source": [
    "data=df[['cust_id','prod_id','group_id','be_type','day_id','buy_time']]\n",
    "data1=data[(data.buy_time>='2019-11-05')&(data.buy_time<='2019-11-13')]"
   ]
  },
  {
   "cell_type": "raw",
   "metadata": {},
   "source": [
    "购买商品类目的汇总"
   ]
  },
  {
   "cell_type": "code",
   "execution_count": 5,
   "metadata": {},
   "outputs": [],
   "source": [
    "product_buy=data1.loc[data1['be_type']=='buy',['cust_id','group_id']]\n",
    "product_buy_count=product_buy.groupby('group_id')['cust_id'].count().rename('销售次数')"
   ]
  },
  {
   "cell_type": "raw",
   "metadata": {},
   "source": [
    "转化为数据框"
   ]
  },
  {
   "cell_type": "code",
   "execution_count": 7,
   "metadata": {},
   "outputs": [],
   "source": [
    "product_buy_count=pd.DataFrame(product_buy_count)  "
   ]
  },
  {
   "cell_type": "raw",
   "metadata": {},
   "source": [
    "按照销售次数降序排序"
   ]
  },
  {
   "cell_type": "code",
   "execution_count": 10,
   "metadata": {},
   "outputs": [],
   "source": [
    "product_buy_count=product_buy_count.sort_values(by='销售次数',axis=0,ascending = False)"
   ]
  },
  {
   "cell_type": "raw",
   "metadata": {},
   "source": [
    "购买产品类目前10名"
   ]
  },
  {
   "cell_type": "code",
   "execution_count": 13,
   "metadata": {},
   "outputs": [],
   "source": [
    "product_buy_count=product_buy_count.iloc[:10,:]\n",
    "product_buy_count=product_buy_count.reset_index(drop = False)"
   ]
  },
  {
   "cell_type": "code",
   "execution_count": 14,
   "metadata": {},
   "outputs": [
    {
     "data": {
      "text/html": [
       "<div>\n",
       "<style scoped>\n",
       "    .dataframe tbody tr th:only-of-type {\n",
       "        vertical-align: middle;\n",
       "    }\n",
       "\n",
       "    .dataframe tbody tr th {\n",
       "        vertical-align: top;\n",
       "    }\n",
       "\n",
       "    .dataframe thead th {\n",
       "        text-align: right;\n",
       "    }\n",
       "</style>\n",
       "<table border=\"1\" class=\"dataframe\">\n",
       "  <thead>\n",
       "    <tr style=\"text-align: right;\">\n",
       "      <th></th>\n",
       "      <th>group_id</th>\n",
       "      <th>销售次数</th>\n",
       "    </tr>\n",
       "  </thead>\n",
       "  <tbody>\n",
       "    <tr>\n",
       "      <th>0</th>\n",
       "      <td>1464217</td>\n",
       "      <td>3681</td>\n",
       "    </tr>\n",
       "    <tr>\n",
       "      <th>1</th>\n",
       "      <td>2735567</td>\n",
       "      <td>3630</td>\n",
       "    </tr>\n",
       "    <tr>\n",
       "      <th>2</th>\n",
       "      <td>4145914</td>\n",
       "      <td>3282</td>\n",
       "    </tr>\n",
       "    <tr>\n",
       "      <th>3</th>\n",
       "      <td>2885743</td>\n",
       "      <td>3165</td>\n",
       "    </tr>\n",
       "    <tr>\n",
       "      <th>4</th>\n",
       "      <td>4756206</td>\n",
       "      <td>3032</td>\n",
       "    </tr>\n",
       "  </tbody>\n",
       "</table>\n",
       "</div>"
      ],
      "text/plain": [
       "   group_id  销售次数\n",
       "0   1464217  3681\n",
       "1   2735567  3630\n",
       "2   4145914  3282\n",
       "3   2885743  3165\n",
       "4   4756206  3032"
      ]
     },
     "execution_count": 14,
     "metadata": {},
     "output_type": "execute_result"
    }
   ],
   "source": [
    "product_buy_count.head()"
   ]
  },
  {
   "cell_type": "raw",
   "metadata": {},
   "source": [
    "点击商品计数"
   ]
  },
  {
   "cell_type": "code",
   "execution_count": 15,
   "metadata": {},
   "outputs": [],
   "source": [
    "product_pv=data1.loc[data1['be_type']=='pv',['cust_id','group_id']]\n",
    "product_pv_count=product_pv.groupby('group_id')['cust_id'].count().rename('点击次数')\n",
    "product_pv_count=pd.DataFrame(product_pv_count)   \n",
    "product_pv_count=product_pv_count.sort_values(by='点击次数',axis=0,ascending = False)\n",
    "product_pv_count=product_pv_count.iloc[:10,:]\n",
    "product_pv_count=product_pv_count.reset_index(drop = False)"
   ]
  },
  {
   "cell_type": "code",
   "execution_count": 16,
   "metadata": {},
   "outputs": [
    {
     "data": {
      "text/html": [
       "<div>\n",
       "<style scoped>\n",
       "    .dataframe tbody tr th:only-of-type {\n",
       "        vertical-align: middle;\n",
       "    }\n",
       "\n",
       "    .dataframe tbody tr th {\n",
       "        vertical-align: top;\n",
       "    }\n",
       "\n",
       "    .dataframe thead th {\n",
       "        text-align: right;\n",
       "    }\n",
       "</style>\n",
       "<table border=\"1\" class=\"dataframe\">\n",
       "  <thead>\n",
       "    <tr style=\"text-align: right;\">\n",
       "      <th></th>\n",
       "      <th>group_id</th>\n",
       "      <th>点击次数</th>\n",
       "    </tr>\n",
       "  </thead>\n",
       "  <tbody>\n",
       "    <tr>\n",
       "      <th>0</th>\n",
       "      <td>4756206</td>\n",
       "      <td>490366</td>\n",
       "    </tr>\n",
       "    <tr>\n",
       "      <th>1</th>\n",
       "      <td>4145914</td>\n",
       "      <td>334181</td>\n",
       "    </tr>\n",
       "    <tr>\n",
       "      <th>2</th>\n",
       "      <td>2355173</td>\n",
       "      <td>328051</td>\n",
       "    </tr>\n",
       "    <tr>\n",
       "      <th>3</th>\n",
       "      <td>3607462</td>\n",
       "      <td>304453</td>\n",
       "    </tr>\n",
       "    <tr>\n",
       "      <th>4</th>\n",
       "      <td>983027</td>\n",
       "      <td>286615</td>\n",
       "    </tr>\n",
       "  </tbody>\n",
       "</table>\n",
       "</div>"
      ],
      "text/plain": [
       "   group_id    点击次数\n",
       "0   4756206  490366\n",
       "1   4145914  334181\n",
       "2   2355173  328051\n",
       "3   3607462  304453\n",
       "4    983027  286615"
      ]
     },
     "execution_count": 16,
     "metadata": {},
     "output_type": "execute_result"
    }
   ],
   "source": [
    "product_pv_count.head()"
   ]
  },
  {
   "cell_type": "raw",
   "metadata": {},
   "source": [
    "将点击量前十和购买量前十商品类目连接"
   ]
  },
  {
   "cell_type": "code",
   "execution_count": 19,
   "metadata": {},
   "outputs": [
    {
     "data": {
      "text/html": [
       "<div>\n",
       "<style scoped>\n",
       "    .dataframe tbody tr th:only-of-type {\n",
       "        vertical-align: middle;\n",
       "    }\n",
       "\n",
       "    .dataframe tbody tr th {\n",
       "        vertical-align: top;\n",
       "    }\n",
       "\n",
       "    .dataframe thead th {\n",
       "        text-align: right;\n",
       "    }\n",
       "</style>\n",
       "<table border=\"1\" class=\"dataframe\">\n",
       "  <thead>\n",
       "    <tr style=\"text-align: right;\">\n",
       "      <th></th>\n",
       "      <th>group_id</th>\n",
       "      <th>点击次数</th>\n",
       "      <th>销售次数</th>\n",
       "    </tr>\n",
       "  </thead>\n",
       "  <tbody>\n",
       "    <tr>\n",
       "      <th>0</th>\n",
       "      <td>4756206</td>\n",
       "      <td>490366</td>\n",
       "      <td>3032.0</td>\n",
       "    </tr>\n",
       "    <tr>\n",
       "      <th>1</th>\n",
       "      <td>4145914</td>\n",
       "      <td>334181</td>\n",
       "      <td>3282.0</td>\n",
       "    </tr>\n",
       "    <tr>\n",
       "      <th>2</th>\n",
       "      <td>2355173</td>\n",
       "      <td>328051</td>\n",
       "      <td>NaN</td>\n",
       "    </tr>\n",
       "    <tr>\n",
       "      <th>3</th>\n",
       "      <td>3607462</td>\n",
       "      <td>304453</td>\n",
       "      <td>NaN</td>\n",
       "    </tr>\n",
       "    <tr>\n",
       "      <th>4</th>\n",
       "      <td>983027</td>\n",
       "      <td>286615</td>\n",
       "      <td>2533.0</td>\n",
       "    </tr>\n",
       "    <tr>\n",
       "      <th>5</th>\n",
       "      <td>2520478</td>\n",
       "      <td>204187</td>\n",
       "      <td>NaN</td>\n",
       "    </tr>\n",
       "    <tr>\n",
       "      <th>6</th>\n",
       "      <td>4801527</td>\n",
       "      <td>196441</td>\n",
       "      <td>2725.0</td>\n",
       "    </tr>\n",
       "    <tr>\n",
       "      <th>7</th>\n",
       "      <td>1320394</td>\n",
       "      <td>183155</td>\n",
       "      <td>1804.0</td>\n",
       "    </tr>\n",
       "    <tr>\n",
       "      <th>8</th>\n",
       "      <td>2465437</td>\n",
       "      <td>159394</td>\n",
       "      <td>NaN</td>\n",
       "    </tr>\n",
       "    <tr>\n",
       "      <th>9</th>\n",
       "      <td>3002662</td>\n",
       "      <td>149539</td>\n",
       "      <td>1802.0</td>\n",
       "    </tr>\n",
       "  </tbody>\n",
       "</table>\n",
       "</div>"
      ],
      "text/plain": [
       "   group_id    点击次数    销售次数\n",
       "0   4756206  490366  3032.0\n",
       "1   4145914  334181  3282.0\n",
       "2   2355173  328051     NaN\n",
       "3   3607462  304453     NaN\n",
       "4    983027  286615  2533.0\n",
       "5   2520478  204187     NaN\n",
       "6   4801527  196441  2725.0\n",
       "7   1320394  183155  1804.0\n",
       "8   2465437  159394     NaN\n",
       "9   3002662  149539  1802.0"
      ]
     },
     "execution_count": 19,
     "metadata": {},
     "output_type": "execute_result"
    }
   ],
   "source": [
    "top=pd.merge(product_pv_count,product_buy_count,how='left')\n",
    "top"
   ]
  },
  {
   "cell_type": "raw",
   "metadata": {},
   "source": [
    "思考:点击次数高的商品为什么销售偏少，这需要"
   ]
  },
  {
   "cell_type": "raw",
   "metadata": {},
   "source": [
    "商品购买次数和种类统计图"
   ]
  },
  {
   "cell_type": "code",
   "execution_count": 20,
   "metadata": {},
   "outputs": [
    {
     "data": {
      "text/html": [
       "<div>\n",
       "<style scoped>\n",
       "    .dataframe tbody tr th:only-of-type {\n",
       "        vertical-align: middle;\n",
       "    }\n",
       "\n",
       "    .dataframe tbody tr th {\n",
       "        vertical-align: top;\n",
       "    }\n",
       "\n",
       "    .dataframe thead th {\n",
       "        text-align: right;\n",
       "    }\n",
       "</style>\n",
       "<table border=\"1\" class=\"dataframe\">\n",
       "  <thead>\n",
       "    <tr style=\"text-align: right;\">\n",
       "      <th>be_type</th>\n",
       "      <th>购买量</th>\n",
       "      <th>加购量</th>\n",
       "      <th>收藏量</th>\n",
       "      <th>点击量</th>\n",
       "      <th>转化率</th>\n",
       "    </tr>\n",
       "    <tr>\n",
       "      <th>group_id</th>\n",
       "      <th></th>\n",
       "      <th></th>\n",
       "      <th></th>\n",
       "      <th></th>\n",
       "      <th></th>\n",
       "    </tr>\n",
       "  </thead>\n",
       "  <tbody>\n",
       "    <tr>\n",
       "      <th>2272</th>\n",
       "      <td>12.0</td>\n",
       "      <td>14.0</td>\n",
       "      <td>8.0</td>\n",
       "      <td>118.0</td>\n",
       "      <td>0.101695</td>\n",
       "    </tr>\n",
       "    <tr>\n",
       "      <th>2511</th>\n",
       "      <td>1.0</td>\n",
       "      <td>4.0</td>\n",
       "      <td>2.0</td>\n",
       "      <td>87.0</td>\n",
       "      <td>0.011494</td>\n",
       "    </tr>\n",
       "    <tr>\n",
       "      <th>2919</th>\n",
       "      <td>2.0</td>\n",
       "      <td>0.0</td>\n",
       "      <td>0.0</td>\n",
       "      <td>3.0</td>\n",
       "      <td>0.666667</td>\n",
       "    </tr>\n",
       "    <tr>\n",
       "      <th>3680</th>\n",
       "      <td>0.0</td>\n",
       "      <td>0.0</td>\n",
       "      <td>0.0</td>\n",
       "      <td>10.0</td>\n",
       "      <td>0.000000</td>\n",
       "    </tr>\n",
       "    <tr>\n",
       "      <th>5008</th>\n",
       "      <td>0.0</td>\n",
       "      <td>5.0</td>\n",
       "      <td>0.0</td>\n",
       "      <td>25.0</td>\n",
       "      <td>0.000000</td>\n",
       "    </tr>\n",
       "  </tbody>\n",
       "</table>\n",
       "</div>"
      ],
      "text/plain": [
       "be_type    购买量   加购量  收藏量    点击量       转化率\n",
       "group_id                                  \n",
       "2272      12.0  14.0  8.0  118.0  0.101695\n",
       "2511       1.0   4.0  2.0   87.0  0.011494\n",
       "2919       2.0   0.0  0.0    3.0  0.666667\n",
       "3680       0.0   0.0  0.0   10.0  0.000000\n",
       "5008       0.0   5.0  0.0   25.0  0.000000"
      ]
     },
     "execution_count": 20,
     "metadata": {},
     "output_type": "execute_result"
    }
   ],
   "source": [
    "item_behavior=data.groupby(['group_id','be_type'])['cust_id'].count().unstack(1).rename(columns={'pv':'点击量','fav':'收藏量','cart':'加购量','buy':'购买量'}).fillna(0)\n",
    "item_behavior.head()\n",
    "item_behavior['转化率']=item_behavior['购买量']/item_behavior['点击量']\n",
    "item_behavior.head()"
   ]
  },
  {
   "cell_type": "code",
   "execution_count": 21,
   "metadata": {},
   "outputs": [
    {
     "data": {
      "text/html": [
       "<div>\n",
       "<style scoped>\n",
       "    .dataframe tbody tr th:only-of-type {\n",
       "        vertical-align: middle;\n",
       "    }\n",
       "\n",
       "    .dataframe tbody tr th {\n",
       "        vertical-align: top;\n",
       "    }\n",
       "\n",
       "    .dataframe thead th {\n",
       "        text-align: right;\n",
       "    }\n",
       "</style>\n",
       "<table border=\"1\" class=\"dataframe\">\n",
       "  <thead>\n",
       "    <tr style=\"text-align: right;\">\n",
       "      <th>be_type</th>\n",
       "      <th>购买量</th>\n",
       "      <th>加购量</th>\n",
       "      <th>收藏量</th>\n",
       "      <th>点击量</th>\n",
       "      <th>转化率</th>\n",
       "      <th>感兴趣比率</th>\n",
       "    </tr>\n",
       "    <tr>\n",
       "      <th>group_id</th>\n",
       "      <th></th>\n",
       "      <th></th>\n",
       "      <th></th>\n",
       "      <th></th>\n",
       "      <th></th>\n",
       "      <th></th>\n",
       "    </tr>\n",
       "  </thead>\n",
       "  <tbody>\n",
       "    <tr>\n",
       "      <th>2272</th>\n",
       "      <td>12.0</td>\n",
       "      <td>14.0</td>\n",
       "      <td>8.0</td>\n",
       "      <td>118.0</td>\n",
       "      <td>0.101695</td>\n",
       "      <td>0.118644</td>\n",
       "    </tr>\n",
       "    <tr>\n",
       "      <th>2511</th>\n",
       "      <td>1.0</td>\n",
       "      <td>4.0</td>\n",
       "      <td>2.0</td>\n",
       "      <td>87.0</td>\n",
       "      <td>0.011494</td>\n",
       "      <td>0.045977</td>\n",
       "    </tr>\n",
       "    <tr>\n",
       "      <th>2919</th>\n",
       "      <td>2.0</td>\n",
       "      <td>0.0</td>\n",
       "      <td>0.0</td>\n",
       "      <td>3.0</td>\n",
       "      <td>0.666667</td>\n",
       "      <td>0.000000</td>\n",
       "    </tr>\n",
       "    <tr>\n",
       "      <th>3680</th>\n",
       "      <td>0.0</td>\n",
       "      <td>0.0</td>\n",
       "      <td>0.0</td>\n",
       "      <td>10.0</td>\n",
       "      <td>0.000000</td>\n",
       "      <td>0.000000</td>\n",
       "    </tr>\n",
       "    <tr>\n",
       "      <th>5008</th>\n",
       "      <td>0.0</td>\n",
       "      <td>5.0</td>\n",
       "      <td>0.0</td>\n",
       "      <td>25.0</td>\n",
       "      <td>0.000000</td>\n",
       "      <td>0.200000</td>\n",
       "    </tr>\n",
       "  </tbody>\n",
       "</table>\n",
       "</div>"
      ],
      "text/plain": [
       "be_type    购买量   加购量  收藏量    点击量       转化率     感兴趣比率\n",
       "group_id                                            \n",
       "2272      12.0  14.0  8.0  118.0  0.101695  0.118644\n",
       "2511       1.0   4.0  2.0   87.0  0.011494  0.045977\n",
       "2919       2.0   0.0  0.0    3.0  0.666667  0.000000\n",
       "3680       0.0   0.0  0.0   10.0  0.000000  0.000000\n",
       "5008       0.0   5.0  0.0   25.0  0.000000  0.200000"
      ]
     },
     "execution_count": 21,
     "metadata": {},
     "output_type": "execute_result"
    }
   ],
   "source": [
    "item_behavior['感兴趣比率']=item_behavior['加购量']/item_behavior['点击量']\n",
    "item_behavior.head()"
   ]
  },
  {
   "cell_type": "raw",
   "metadata": {},
   "source": [
    "二八定律"
   ]
  },
  {
   "cell_type": "code",
   "execution_count": 22,
   "metadata": {},
   "outputs": [
    {
     "data": {
      "text/html": [
       "<div>\n",
       "<style scoped>\n",
       "    .dataframe tbody tr th:only-of-type {\n",
       "        vertical-align: middle;\n",
       "    }\n",
       "\n",
       "    .dataframe tbody tr th {\n",
       "        vertical-align: top;\n",
       "    }\n",
       "\n",
       "    .dataframe thead th {\n",
       "        text-align: right;\n",
       "    }\n",
       "</style>\n",
       "<table border=\"1\" class=\"dataframe\">\n",
       "  <thead>\n",
       "    <tr style=\"text-align: right;\">\n",
       "      <th>be_type</th>\n",
       "      <th>购买量</th>\n",
       "      <th>加购量</th>\n",
       "      <th>收藏量</th>\n",
       "      <th>点击量</th>\n",
       "      <th>转化率</th>\n",
       "      <th>感兴趣比率</th>\n",
       "      <th>累计购买量</th>\n",
       "      <th>分类</th>\n",
       "    </tr>\n",
       "    <tr>\n",
       "      <th>group_id</th>\n",
       "      <th></th>\n",
       "      <th></th>\n",
       "      <th></th>\n",
       "      <th></th>\n",
       "      <th></th>\n",
       "      <th></th>\n",
       "      <th></th>\n",
       "      <th></th>\n",
       "    </tr>\n",
       "  </thead>\n",
       "  <tbody>\n",
       "    <tr>\n",
       "      <th>1464217</th>\n",
       "      <td>3681.0</td>\n",
       "      <td>6298.0</td>\n",
       "      <td>2803.0</td>\n",
       "      <td>72975.0</td>\n",
       "      <td>0.050442</td>\n",
       "      <td>0.086304</td>\n",
       "      <td>3681.0</td>\n",
       "      <td>前80%</td>\n",
       "    </tr>\n",
       "    <tr>\n",
       "      <th>2735567</th>\n",
       "      <td>3630.0</td>\n",
       "      <td>9878.0</td>\n",
       "      <td>3652.0</td>\n",
       "      <td>115233.0</td>\n",
       "      <td>0.031501</td>\n",
       "      <td>0.085722</td>\n",
       "      <td>7311.0</td>\n",
       "      <td>前80%</td>\n",
       "    </tr>\n",
       "    <tr>\n",
       "      <th>4145914</th>\n",
       "      <td>3282.0</td>\n",
       "      <td>18388.0</td>\n",
       "      <td>12445.0</td>\n",
       "      <td>334351.0</td>\n",
       "      <td>0.009816</td>\n",
       "      <td>0.054996</td>\n",
       "      <td>10593.0</td>\n",
       "      <td>前80%</td>\n",
       "    </tr>\n",
       "    <tr>\n",
       "      <th>2885743</th>\n",
       "      <td>3165.0</td>\n",
       "      <td>5780.0</td>\n",
       "      <td>3160.0</td>\n",
       "      <td>96817.0</td>\n",
       "      <td>0.032691</td>\n",
       "      <td>0.059700</td>\n",
       "      <td>13758.0</td>\n",
       "      <td>前80%</td>\n",
       "    </tr>\n",
       "    <tr>\n",
       "      <th>4756206</th>\n",
       "      <td>3032.0</td>\n",
       "      <td>23822.0</td>\n",
       "      <td>15818.0</td>\n",
       "      <td>490575.0</td>\n",
       "      <td>0.006181</td>\n",
       "      <td>0.048559</td>\n",
       "      <td>16790.0</td>\n",
       "      <td>前80%</td>\n",
       "    </tr>\n",
       "  </tbody>\n",
       "</table>\n",
       "</div>"
      ],
      "text/plain": [
       "be_type      购买量      加购量      收藏量       点击量       转化率     感兴趣比率    累计购买量  \\\n",
       "group_id                                                                    \n",
       "1464217   3681.0   6298.0   2803.0   72975.0  0.050442  0.086304   3681.0   \n",
       "2735567   3630.0   9878.0   3652.0  115233.0  0.031501  0.085722   7311.0   \n",
       "4145914   3282.0  18388.0  12445.0  334351.0  0.009816  0.054996  10593.0   \n",
       "2885743   3165.0   5780.0   3160.0   96817.0  0.032691  0.059700  13758.0   \n",
       "4756206   3032.0  23822.0  15818.0  490575.0  0.006181  0.048559  16790.0   \n",
       "\n",
       "be_type     分类  \n",
       "group_id        \n",
       "1464217   前80%  \n",
       "2735567   前80%  \n",
       "4145914   前80%  \n",
       "2885743   前80%  \n",
       "4756206   前80%  "
      ]
     },
     "execution_count": 22,
     "metadata": {},
     "output_type": "execute_result"
    }
   ],
   "source": [
    "item_behavior=item_behavior[item_behavior['购买量']>0]\n",
    "up=item_behavior['购买量'].sum()*0.8\n",
    "item_behavior=item_behavior.sort_values(by='购买量',ascending=False)\n",
    "item_behavior['累计购买量']=item_behavior['购买量'].cumsum()\n",
    "item_behavior['分类']=item_behavior['累计购买量'].map(lambda x:'前80%' if x<=up else '后20%')\n",
    "item_behavior.head()"
   ]
  },
  {
   "cell_type": "code",
   "execution_count": 23,
   "metadata": {},
   "outputs": [
    {
     "data": {
      "text/plain": [
       "分类\n",
       "前80%    0.135521\n",
       "后20%    0.864479\n",
       "Name: 分类, dtype: float64"
      ]
     },
     "execution_count": 23,
     "metadata": {},
     "output_type": "execute_result"
    }
   ],
   "source": [
    "item_behavior.groupby('分类')['分类'].count()/item_behavior['分类'].count()"
   ]
  },
  {
   "cell_type": "code",
   "execution_count": null,
   "metadata": {},
   "outputs": [],
   "source": []
  }
 ],
 "metadata": {
  "kernelspec": {
   "display_name": "Python 3",
   "language": "python",
   "name": "python3"
  },
  "language_info": {
   "codemirror_mode": {
    "name": "ipython",
    "version": 3
   },
   "file_extension": ".py",
   "mimetype": "text/x-python",
   "name": "python",
   "nbconvert_exporter": "python",
   "pygments_lexer": "ipython3",
   "version": "3.7.1"
  }
 },
 "nbformat": 4,
 "nbformat_minor": 2
}
