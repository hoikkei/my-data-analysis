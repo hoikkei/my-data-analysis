{
 "cells": [
  {
   "cell_type": "code",
   "execution_count": 1,
   "metadata": {},
   "outputs": [],
   "source": [
    "import pandas as pd\n",
    "import numpy as np\n",
    "import csv"
   ]
  },
  {
   "cell_type": "raw",
   "metadata": {},
   "source": [
    "读取数据"
   ]
  },
  {
   "cell_type": "code",
   "execution_count": 2,
   "metadata": {},
   "outputs": [],
   "source": [
    "g=open('C:/Users/jiang/Desktop/rfm_data.csv',encoding='gbk')\n",
    "sale_data=pd.read_csv(g)\n",
    "g.close()"
   ]
  },
  {
   "cell_type": "raw",
   "metadata": {},
   "source": [
    "查看数据"
   ]
  },
  {
   "cell_type": "code",
   "execution_count": 3,
   "metadata": {},
   "outputs": [
    {
     "data": {
      "text/html": [
       "<div>\n",
       "<style scoped>\n",
       "    .dataframe tbody tr th:only-of-type {\n",
       "        vertical-align: middle;\n",
       "    }\n",
       "\n",
       "    .dataframe tbody tr th {\n",
       "        vertical-align: top;\n",
       "    }\n",
       "\n",
       "    .dataframe thead th {\n",
       "        text-align: right;\n",
       "    }\n",
       "</style>\n",
       "<table border=\"1\" class=\"dataframe\">\n",
       "  <thead>\n",
       "    <tr style=\"text-align: right;\">\n",
       "      <th></th>\n",
       "      <th>buy_time</th>\n",
       "      <th>city_code</th>\n",
       "      <th>customer_code</th>\n",
       "      <th>bill_code</th>\n",
       "      <th>sale_amt</th>\n",
       "    </tr>\n",
       "  </thead>\n",
       "  <tbody>\n",
       "    <tr>\n",
       "      <th>0</th>\n",
       "      <td>2019-09-25</td>\n",
       "      <td>QB</td>\n",
       "      <td>16449</td>\n",
       "      <td>9440052</td>\n",
       "      <td>282.00</td>\n",
       "    </tr>\n",
       "    <tr>\n",
       "      <th>1</th>\n",
       "      <td>2019-09-25</td>\n",
       "      <td>QB</td>\n",
       "      <td>16449</td>\n",
       "      <td>9440696</td>\n",
       "      <td>7096.48</td>\n",
       "    </tr>\n",
       "    <tr>\n",
       "      <th>2</th>\n",
       "      <td>2019-09-25</td>\n",
       "      <td>QB</td>\n",
       "      <td>16449</td>\n",
       "      <td>9438206</td>\n",
       "      <td>3017.80</td>\n",
       "    </tr>\n",
       "    <tr>\n",
       "      <th>3</th>\n",
       "      <td>2019-09-25</td>\n",
       "      <td>QB</td>\n",
       "      <td>16449</td>\n",
       "      <td>9440583</td>\n",
       "      <td>6411.00</td>\n",
       "    </tr>\n",
       "    <tr>\n",
       "      <th>4</th>\n",
       "      <td>2019-09-25</td>\n",
       "      <td>QB</td>\n",
       "      <td>16449</td>\n",
       "      <td>9439816</td>\n",
       "      <td>80.00</td>\n",
       "    </tr>\n",
       "  </tbody>\n",
       "</table>\n",
       "</div>"
      ],
      "text/plain": [
       "     buy_time city_code  customer_code  bill_code  sale_amt\n",
       "0  2019-09-25        QB          16449    9440052    282.00\n",
       "1  2019-09-25        QB          16449    9440696   7096.48\n",
       "2  2019-09-25        QB          16449    9438206   3017.80\n",
       "3  2019-09-25        QB          16449    9440583   6411.00\n",
       "4  2019-09-25        QB          16449    9439816     80.00"
      ]
     },
     "execution_count": 3,
     "metadata": {},
     "output_type": "execute_result"
    }
   ],
   "source": [
    "sale_data.head()"
   ]
  },
  {
   "cell_type": "code",
   "execution_count": 4,
   "metadata": {},
   "outputs": [
    {
     "data": {
      "text/plain": [
       "buy_time          object\n",
       "city_code         object\n",
       "customer_code      int64\n",
       "bill_code          int64\n",
       "sale_amt         float64\n",
       "dtype: object"
      ]
     },
     "execution_count": 4,
     "metadata": {},
     "output_type": "execute_result"
    }
   ],
   "source": [
    "sale_data.dtypes"
   ]
  },
  {
   "cell_type": "code",
   "execution_count": 5,
   "metadata": {},
   "outputs": [
    {
     "data": {
      "text/plain": [
       "174409"
      ]
     },
     "execution_count": 5,
     "metadata": {},
     "output_type": "execute_result"
    }
   ],
   "source": [
    "len(sale_data)"
   ]
  },
  {
   "cell_type": "raw",
   "metadata": {},
   "source": [
    "一个客户一天之内有下多个订单的情况我们只记录这个客户当天有下单"
   ]
  },
  {
   "cell_type": "code",
   "execution_count": 11,
   "metadata": {},
   "outputs": [],
   "source": [
    "sale_data.drop_duplicates(subset=['buy_time','city_code','customer_code'],keep='first',inplace=True)"
   ]
  },
  {
   "cell_type": "code",
   "execution_count": 12,
   "metadata": {},
   "outputs": [
    {
     "data": {
      "text/plain": [
       "83397"
      ]
     },
     "execution_count": 12,
     "metadata": {},
     "output_type": "execute_result"
    }
   ],
   "source": [
    "len(sale_data)"
   ]
  },
  {
   "cell_type": "raw",
   "metadata": {},
   "source": [
    "查看是否有空值"
   ]
  },
  {
   "cell_type": "code",
   "execution_count": 13,
   "metadata": {},
   "outputs": [
    {
     "data": {
      "text/plain": [
       "buy_time         False\n",
       "city_code        False\n",
       "customer_code    False\n",
       "bill_code        False\n",
       "sale_amt         False\n",
       "date_diff        False\n",
       "dtype: bool"
      ]
     },
     "execution_count": 13,
     "metadata": {},
     "output_type": "execute_result"
    }
   ],
   "source": [
    "sale_data.isnull().any()"
   ]
  },
  {
   "cell_type": "raw",
   "metadata": {},
   "source": [
    "日期格式的转化，字符串转为时间格式"
   ]
  },
  {
   "cell_type": "code",
   "execution_count": 14,
   "metadata": {},
   "outputs": [],
   "source": [
    "import time\n",
    "from datetime import datetime"
   ]
  },
  {
   "cell_type": "code",
   "execution_count": 15,
   "metadata": {},
   "outputs": [],
   "source": [
    "def time_diff(x):\n",
    "    x=x[0]\n",
    "    day_diff=(pd.to_datetime('today')-x).days\n",
    "    return day_diff\n",
    "\n",
    "sale_data['buy_time']=pd.to_datetime(sale_data['buy_time'])\n",
    "\n",
    "sale_data['date_diff']=sale_data.apply(time_diff,axis=1)"
   ]
  },
  {
   "cell_type": "code",
   "execution_count": 16,
   "metadata": {},
   "outputs": [
    {
     "data": {
      "text/html": [
       "<div>\n",
       "<style scoped>\n",
       "    .dataframe tbody tr th:only-of-type {\n",
       "        vertical-align: middle;\n",
       "    }\n",
       "\n",
       "    .dataframe tbody tr th {\n",
       "        vertical-align: top;\n",
       "    }\n",
       "\n",
       "    .dataframe thead th {\n",
       "        text-align: right;\n",
       "    }\n",
       "</style>\n",
       "<table border=\"1\" class=\"dataframe\">\n",
       "  <thead>\n",
       "    <tr style=\"text-align: right;\">\n",
       "      <th></th>\n",
       "      <th>buy_time</th>\n",
       "      <th>city_code</th>\n",
       "      <th>customer_code</th>\n",
       "      <th>bill_code</th>\n",
       "      <th>sale_amt</th>\n",
       "      <th>date_diff</th>\n",
       "    </tr>\n",
       "  </thead>\n",
       "  <tbody>\n",
       "    <tr>\n",
       "      <th>0</th>\n",
       "      <td>2019-09-25</td>\n",
       "      <td>QB</td>\n",
       "      <td>16449</td>\n",
       "      <td>9440052</td>\n",
       "      <td>282.00</td>\n",
       "      <td>180</td>\n",
       "    </tr>\n",
       "    <tr>\n",
       "      <th>10</th>\n",
       "      <td>2019-09-25</td>\n",
       "      <td>QB</td>\n",
       "      <td>19658</td>\n",
       "      <td>9441255</td>\n",
       "      <td>3555.70</td>\n",
       "      <td>180</td>\n",
       "    </tr>\n",
       "    <tr>\n",
       "      <th>11</th>\n",
       "      <td>2019-09-25</td>\n",
       "      <td>QB</td>\n",
       "      <td>22813</td>\n",
       "      <td>9437931</td>\n",
       "      <td>1459.54</td>\n",
       "      <td>180</td>\n",
       "    </tr>\n",
       "    <tr>\n",
       "      <th>17</th>\n",
       "      <td>2019-09-25</td>\n",
       "      <td>QB</td>\n",
       "      <td>31295</td>\n",
       "      <td>9438367</td>\n",
       "      <td>160.00</td>\n",
       "      <td>180</td>\n",
       "    </tr>\n",
       "    <tr>\n",
       "      <th>19</th>\n",
       "      <td>2019-09-25</td>\n",
       "      <td>QB</td>\n",
       "      <td>46575</td>\n",
       "      <td>9439562</td>\n",
       "      <td>686.12</td>\n",
       "      <td>180</td>\n",
       "    </tr>\n",
       "  </tbody>\n",
       "</table>\n",
       "</div>"
      ],
      "text/plain": [
       "     buy_time city_code  customer_code  bill_code  sale_amt  date_diff\n",
       "0  2019-09-25        QB          16449    9440052    282.00        180\n",
       "10 2019-09-25        QB          19658    9441255   3555.70        180\n",
       "11 2019-09-25        QB          22813    9437931   1459.54        180\n",
       "17 2019-09-25        QB          31295    9438367    160.00        180\n",
       "19 2019-09-25        QB          46575    9439562    686.12        180"
      ]
     },
     "execution_count": 16,
     "metadata": {},
     "output_type": "execute_result"
    }
   ],
   "source": [
    "sale_data.head()"
   ]
  },
  {
   "cell_type": "raw",
   "metadata": {},
   "source": [
    "近度（Recency，最近一次消费到当前的时间间隔）\n",
    "频度（Frequency，最近一段时间内的消费次数）\n",
    "额度（Monetory，最近一段时间内的消费金额总额/均额）"
   ]
  },
  {
   "cell_type": "code",
   "execution_count": 18,
   "metadata": {},
   "outputs": [],
   "source": [
    "R_data = sale_data.groupby(by=['city_code','customer_code'])['date_diff']\n",
    "R_Agg= R_data.agg([('最近一次消费','min')])"
   ]
  },
  {
   "cell_type": "code",
   "execution_count": 22,
   "metadata": {},
   "outputs": [],
   "source": [
    "F_data = sale_data.groupby(by=['city_code','customer_code'])['bill_code']\n",
    "F_Agg= F_data.agg([('消费频次','count')])"
   ]
  },
  {
   "cell_type": "code",
   "execution_count": 24,
   "metadata": {},
   "outputs": [],
   "source": [
    "M_data =sale_data.groupby(by=['city_code','customer_code'])['sale_amt']\n",
    "M_Agg = M_data.agg([('消费金额',sum)])"
   ]
  },
  {
   "cell_type": "code",
   "execution_count": 25,
   "metadata": {},
   "outputs": [
    {
     "data": {
      "text/html": [
       "<div>\n",
       "<style scoped>\n",
       "    .dataframe tbody tr th:only-of-type {\n",
       "        vertical-align: middle;\n",
       "    }\n",
       "\n",
       "    .dataframe tbody tr th {\n",
       "        vertical-align: top;\n",
       "    }\n",
       "\n",
       "    .dataframe thead th {\n",
       "        text-align: right;\n",
       "    }\n",
       "</style>\n",
       "<table border=\"1\" class=\"dataframe\">\n",
       "  <thead>\n",
       "    <tr style=\"text-align: right;\">\n",
       "      <th></th>\n",
       "      <th></th>\n",
       "      <th>最近一次消费</th>\n",
       "      <th>消费频次</th>\n",
       "      <th>消费金额</th>\n",
       "    </tr>\n",
       "    <tr>\n",
       "      <th>city_code</th>\n",
       "      <th>customer_code</th>\n",
       "      <th></th>\n",
       "      <th></th>\n",
       "      <th></th>\n",
       "    </tr>\n",
       "  </thead>\n",
       "  <tbody>\n",
       "    <tr>\n",
       "      <th rowspan=\"5\" valign=\"top\">QB</th>\n",
       "      <th>16449</th>\n",
       "      <td>6</td>\n",
       "      <td>104</td>\n",
       "      <td>585536.80</td>\n",
       "    </tr>\n",
       "    <tr>\n",
       "      <th>19658</th>\n",
       "      <td>4</td>\n",
       "      <td>75</td>\n",
       "      <td>345461.63</td>\n",
       "    </tr>\n",
       "    <tr>\n",
       "      <th>21318</th>\n",
       "      <td>89</td>\n",
       "      <td>7</td>\n",
       "      <td>5522.47</td>\n",
       "    </tr>\n",
       "    <tr>\n",
       "      <th>21345</th>\n",
       "      <td>49</td>\n",
       "      <td>10</td>\n",
       "      <td>29378.35</td>\n",
       "    </tr>\n",
       "    <tr>\n",
       "      <th>22813</th>\n",
       "      <td>4</td>\n",
       "      <td>73</td>\n",
       "      <td>640674.40</td>\n",
       "    </tr>\n",
       "  </tbody>\n",
       "</table>\n",
       "</div>"
      ],
      "text/plain": [
       "                         最近一次消费  消费频次       消费金额\n",
       "city_code customer_code                         \n",
       "QB        16449               6   104  585536.80\n",
       "          19658               4    75  345461.63\n",
       "          21318              89     7    5522.47\n",
       "          21345              49    10   29378.35\n",
       "          22813               4    73  640674.40"
      ]
     },
     "execution_count": 25,
     "metadata": {},
     "output_type": "execute_result"
    }
   ],
   "source": [
    "rfm = R_Agg.join(F_Agg).join(M_Agg)\n",
    "rfm.head()"
   ]
  },
  {
   "cell_type": "raw",
   "metadata": {},
   "source": [
    "重置索引"
   ]
  },
  {
   "cell_type": "code",
   "execution_count": 26,
   "metadata": {},
   "outputs": [],
   "source": [
    "rfm=rfm.reset_index(drop = False)"
   ]
  },
  {
   "cell_type": "code",
   "execution_count": 27,
   "metadata": {},
   "outputs": [
    {
     "data": {
      "text/html": [
       "<div>\n",
       "<style scoped>\n",
       "    .dataframe tbody tr th:only-of-type {\n",
       "        vertical-align: middle;\n",
       "    }\n",
       "\n",
       "    .dataframe tbody tr th {\n",
       "        vertical-align: top;\n",
       "    }\n",
       "\n",
       "    .dataframe thead th {\n",
       "        text-align: right;\n",
       "    }\n",
       "</style>\n",
       "<table border=\"1\" class=\"dataframe\">\n",
       "  <thead>\n",
       "    <tr style=\"text-align: right;\">\n",
       "      <th></th>\n",
       "      <th>city_code</th>\n",
       "      <th>customer_code</th>\n",
       "      <th>最近一次消费</th>\n",
       "      <th>消费频次</th>\n",
       "      <th>消费金额</th>\n",
       "    </tr>\n",
       "  </thead>\n",
       "  <tbody>\n",
       "    <tr>\n",
       "      <th>0</th>\n",
       "      <td>QB</td>\n",
       "      <td>16449</td>\n",
       "      <td>6</td>\n",
       "      <td>104</td>\n",
       "      <td>585536.80</td>\n",
       "    </tr>\n",
       "    <tr>\n",
       "      <th>1</th>\n",
       "      <td>QB</td>\n",
       "      <td>19658</td>\n",
       "      <td>4</td>\n",
       "      <td>75</td>\n",
       "      <td>345461.63</td>\n",
       "    </tr>\n",
       "    <tr>\n",
       "      <th>2</th>\n",
       "      <td>QB</td>\n",
       "      <td>21318</td>\n",
       "      <td>89</td>\n",
       "      <td>7</td>\n",
       "      <td>5522.47</td>\n",
       "    </tr>\n",
       "    <tr>\n",
       "      <th>3</th>\n",
       "      <td>QB</td>\n",
       "      <td>21345</td>\n",
       "      <td>49</td>\n",
       "      <td>10</td>\n",
       "      <td>29378.35</td>\n",
       "    </tr>\n",
       "    <tr>\n",
       "      <th>4</th>\n",
       "      <td>QB</td>\n",
       "      <td>22813</td>\n",
       "      <td>4</td>\n",
       "      <td>73</td>\n",
       "      <td>640674.40</td>\n",
       "    </tr>\n",
       "  </tbody>\n",
       "</table>\n",
       "</div>"
      ],
      "text/plain": [
       "  city_code  customer_code  最近一次消费  消费频次       消费金额\n",
       "0        QB          16449       6   104  585536.80\n",
       "1        QB          19658       4    75  345461.63\n",
       "2        QB          21318      89     7    5522.47\n",
       "3        QB          21345      49    10   29378.35\n",
       "4        QB          22813       4    73  640674.40"
      ]
     },
     "execution_count": 27,
     "metadata": {},
     "output_type": "execute_result"
    }
   ],
   "source": [
    "rfm.head()"
   ]
  },
  {
   "cell_type": "code",
   "execution_count": null,
   "metadata": {},
   "outputs": [],
   "source": [
    "给客户进行分层，按照1-5的等级进行打标签"
   ]
  },
  {
   "cell_type": "code",
   "execution_count": 28,
   "metadata": {},
   "outputs": [
    {
     "data": {
      "text/html": [
       "<div>\n",
       "<style scoped>\n",
       "    .dataframe tbody tr th:only-of-type {\n",
       "        vertical-align: middle;\n",
       "    }\n",
       "\n",
       "    .dataframe tbody tr th {\n",
       "        vertical-align: top;\n",
       "    }\n",
       "\n",
       "    .dataframe thead th {\n",
       "        text-align: right;\n",
       "    }\n",
       "</style>\n",
       "<table border=\"1\" class=\"dataframe\">\n",
       "  <thead>\n",
       "    <tr style=\"text-align: right;\">\n",
       "      <th></th>\n",
       "      <th>city_code</th>\n",
       "      <th>customer_code</th>\n",
       "      <th>最近一次消费</th>\n",
       "      <th>消费频次</th>\n",
       "      <th>消费金额</th>\n",
       "      <th>R1</th>\n",
       "      <th>F1</th>\n",
       "      <th>M1</th>\n",
       "    </tr>\n",
       "  </thead>\n",
       "  <tbody>\n",
       "    <tr>\n",
       "      <th>0</th>\n",
       "      <td>QB</td>\n",
       "      <td>16449</td>\n",
       "      <td>6</td>\n",
       "      <td>104</td>\n",
       "      <td>585536.80</td>\n",
       "      <td>4</td>\n",
       "      <td>5</td>\n",
       "      <td>5</td>\n",
       "    </tr>\n",
       "    <tr>\n",
       "      <th>1</th>\n",
       "      <td>QB</td>\n",
       "      <td>19658</td>\n",
       "      <td>4</td>\n",
       "      <td>75</td>\n",
       "      <td>345461.63</td>\n",
       "      <td>5</td>\n",
       "      <td>5</td>\n",
       "      <td>5</td>\n",
       "    </tr>\n",
       "    <tr>\n",
       "      <th>2</th>\n",
       "      <td>QB</td>\n",
       "      <td>21318</td>\n",
       "      <td>89</td>\n",
       "      <td>7</td>\n",
       "      <td>5522.47</td>\n",
       "      <td>1</td>\n",
       "      <td>2</td>\n",
       "      <td>2</td>\n",
       "    </tr>\n",
       "    <tr>\n",
       "      <th>3</th>\n",
       "      <td>QB</td>\n",
       "      <td>21345</td>\n",
       "      <td>49</td>\n",
       "      <td>10</td>\n",
       "      <td>29378.35</td>\n",
       "      <td>3</td>\n",
       "      <td>2</td>\n",
       "      <td>3</td>\n",
       "    </tr>\n",
       "    <tr>\n",
       "      <th>4</th>\n",
       "      <td>QB</td>\n",
       "      <td>22813</td>\n",
       "      <td>4</td>\n",
       "      <td>73</td>\n",
       "      <td>640674.40</td>\n",
       "      <td>5</td>\n",
       "      <td>5</td>\n",
       "      <td>5</td>\n",
       "    </tr>\n",
       "  </tbody>\n",
       "</table>\n",
       "</div>"
      ],
      "text/plain": [
       "  city_code  customer_code  最近一次消费  消费频次       消费金额 R1 F1 M1\n",
       "0        QB          16449       6   104  585536.80  4  5  5\n",
       "1        QB          19658       4    75  345461.63  5  5  5\n",
       "2        QB          21318      89     7    5522.47  1  2  2\n",
       "3        QB          21345      49    10   29378.35  3  2  3\n",
       "4        QB          22813       4    73  640674.40  5  5  5"
      ]
     },
     "execution_count": 28,
     "metadata": {},
     "output_type": "execute_result"
    }
   ],
   "source": [
    "bins = rfm.最近一次消费.quantile(q=np.linspace(0,1,6),interpolation='nearest')  \n",
    "bins[0] =0  \n",
    "labels =[5, 4, 3, 2, 1]  \n",
    "R1 = pd.cut(rfm.最近一次消费,bins,labels=labels);\n",
    "bins = rfm.消费频次.quantile(q=np.linspace(0,1,6),interpolation='nearest')  \n",
    "bins[0]=0 \n",
    "labels=[1,2,3,4,5] \n",
    "F1 = pd.cut(rfm.消费频次,bins,labels=labels);\n",
    "bins = rfm.消费金额.quantile(q=np.linspace(0,1,6),interpolation='nearest')  \n",
    "bins[0]=0  \n",
    "labels=[1, 2, 3, 4, 5]  \n",
    "M1 = pd.cut(rfm.消费金额,bins,labels=labels);\n",
    "rfm['R1']=R1  \n",
    "rfm['F1']=F1  \n",
    "rfm['M1']=M1\n",
    "rfm.head()"
   ]
  },
  {
   "cell_type": "code",
   "execution_count": 29,
   "metadata": {},
   "outputs": [
    {
     "data": {
      "text/html": [
       "<div>\n",
       "<style scoped>\n",
       "    .dataframe tbody tr th:only-of-type {\n",
       "        vertical-align: middle;\n",
       "    }\n",
       "\n",
       "    .dataframe tbody tr th {\n",
       "        vertical-align: top;\n",
       "    }\n",
       "\n",
       "    .dataframe thead th {\n",
       "        text-align: right;\n",
       "    }\n",
       "</style>\n",
       "<table border=\"1\" class=\"dataframe\">\n",
       "  <thead>\n",
       "    <tr style=\"text-align: right;\">\n",
       "      <th></th>\n",
       "      <th>city_code</th>\n",
       "      <th>customer_code</th>\n",
       "      <th>最近一次消费</th>\n",
       "      <th>消费频次</th>\n",
       "      <th>消费金额</th>\n",
       "      <th>R1</th>\n",
       "      <th>F1</th>\n",
       "      <th>M1</th>\n",
       "      <th>RFM</th>\n",
       "    </tr>\n",
       "  </thead>\n",
       "  <tbody>\n",
       "    <tr>\n",
       "      <th>0</th>\n",
       "      <td>QB</td>\n",
       "      <td>16449</td>\n",
       "      <td>6</td>\n",
       "      <td>104</td>\n",
       "      <td>585536.80</td>\n",
       "      <td>4</td>\n",
       "      <td>5</td>\n",
       "      <td>5</td>\n",
       "      <td>4.8</td>\n",
       "    </tr>\n",
       "    <tr>\n",
       "      <th>1</th>\n",
       "      <td>QB</td>\n",
       "      <td>19658</td>\n",
       "      <td>4</td>\n",
       "      <td>75</td>\n",
       "      <td>345461.63</td>\n",
       "      <td>5</td>\n",
       "      <td>5</td>\n",
       "      <td>5</td>\n",
       "      <td>5.0</td>\n",
       "    </tr>\n",
       "    <tr>\n",
       "      <th>2</th>\n",
       "      <td>QB</td>\n",
       "      <td>21318</td>\n",
       "      <td>89</td>\n",
       "      <td>7</td>\n",
       "      <td>5522.47</td>\n",
       "      <td>1</td>\n",
       "      <td>2</td>\n",
       "      <td>2</td>\n",
       "      <td>1.8</td>\n",
       "    </tr>\n",
       "    <tr>\n",
       "      <th>3</th>\n",
       "      <td>QB</td>\n",
       "      <td>21345</td>\n",
       "      <td>49</td>\n",
       "      <td>10</td>\n",
       "      <td>29378.35</td>\n",
       "      <td>3</td>\n",
       "      <td>2</td>\n",
       "      <td>3</td>\n",
       "      <td>2.7</td>\n",
       "    </tr>\n",
       "    <tr>\n",
       "      <th>4</th>\n",
       "      <td>QB</td>\n",
       "      <td>22813</td>\n",
       "      <td>4</td>\n",
       "      <td>73</td>\n",
       "      <td>640674.40</td>\n",
       "      <td>5</td>\n",
       "      <td>5</td>\n",
       "      <td>5</td>\n",
       "      <td>5.0</td>\n",
       "    </tr>\n",
       "  </tbody>\n",
       "</table>\n",
       "</div>"
      ],
      "text/plain": [
       "  city_code  customer_code  最近一次消费  消费频次       消费金额 R1 F1 M1  RFM\n",
       "0        QB          16449       6   104  585536.80  4  5  5  4.8\n",
       "1        QB          19658       4    75  345461.63  5  5  5  5.0\n",
       "2        QB          21318      89     7    5522.47  1  2  2  1.8\n",
       "3        QB          21345      49    10   29378.35  3  2  3  2.7\n",
       "4        QB          22813       4    73  640674.40  5  5  5  5.0"
      ]
     },
     "execution_count": 29,
     "metadata": {},
     "output_type": "execute_result"
    }
   ],
   "source": [
    "rfm['RFM'] =0.2*R1.astype(int) + 0.3*F1.astype(int) + 0.5*M1.astype(int)  \n",
    "rfm.head()"
   ]
  },
  {
   "cell_type": "code",
   "execution_count": 34,
   "metadata": {},
   "outputs": [],
   "source": [
    "bins = rfm.RFM.quantile(q=[0,0.125,0.25,0.375,0.5,0.625,0.75,0.875,1],interpolation='nearest')  \n",
    "bins[0] =0\n",
    "labels =['流失客户','一般维持客户','一般发展客户','潜力客户','重要挽留客户','重要保持客户','重要发展客户','重要价值客户']\n",
    "rfm['用户分层'] = pd.cut(rfm.RFM,bins,labels=labels)\n",
    "\n",
    "\n",
    "rfm=rfm.rename(columns={'最近一次消费':'last_sale_day','消费频次':'sale_frq','消费金额':'sale_amt','用户分层':'customer_classification',})"
   ]
  },
  {
   "cell_type": "code",
   "execution_count": 35,
   "metadata": {},
   "outputs": [
    {
     "data": {
      "text/html": [
       "<div>\n",
       "<style scoped>\n",
       "    .dataframe tbody tr th:only-of-type {\n",
       "        vertical-align: middle;\n",
       "    }\n",
       "\n",
       "    .dataframe tbody tr th {\n",
       "        vertical-align: top;\n",
       "    }\n",
       "\n",
       "    .dataframe thead th {\n",
       "        text-align: right;\n",
       "    }\n",
       "</style>\n",
       "<table border=\"1\" class=\"dataframe\">\n",
       "  <thead>\n",
       "    <tr style=\"text-align: right;\">\n",
       "      <th></th>\n",
       "      <th>city_code</th>\n",
       "      <th>customer_code</th>\n",
       "      <th>last_sale_day</th>\n",
       "      <th>sale_frq</th>\n",
       "      <th>sale_amt</th>\n",
       "      <th>R1</th>\n",
       "      <th>F1</th>\n",
       "      <th>M1</th>\n",
       "      <th>RFM</th>\n",
       "      <th>customer_classification</th>\n",
       "    </tr>\n",
       "  </thead>\n",
       "  <tbody>\n",
       "    <tr>\n",
       "      <th>0</th>\n",
       "      <td>QB</td>\n",
       "      <td>16449</td>\n",
       "      <td>6</td>\n",
       "      <td>104</td>\n",
       "      <td>585536.80</td>\n",
       "      <td>4</td>\n",
       "      <td>5</td>\n",
       "      <td>5</td>\n",
       "      <td>4.8</td>\n",
       "      <td>重要价值客户</td>\n",
       "    </tr>\n",
       "    <tr>\n",
       "      <th>1</th>\n",
       "      <td>QB</td>\n",
       "      <td>19658</td>\n",
       "      <td>4</td>\n",
       "      <td>75</td>\n",
       "      <td>345461.63</td>\n",
       "      <td>5</td>\n",
       "      <td>5</td>\n",
       "      <td>5</td>\n",
       "      <td>5.0</td>\n",
       "      <td>重要价值客户</td>\n",
       "    </tr>\n",
       "    <tr>\n",
       "      <th>2</th>\n",
       "      <td>QB</td>\n",
       "      <td>21318</td>\n",
       "      <td>89</td>\n",
       "      <td>7</td>\n",
       "      <td>5522.47</td>\n",
       "      <td>1</td>\n",
       "      <td>2</td>\n",
       "      <td>2</td>\n",
       "      <td>1.8</td>\n",
       "      <td>一般维持客户</td>\n",
       "    </tr>\n",
       "    <tr>\n",
       "      <th>3</th>\n",
       "      <td>QB</td>\n",
       "      <td>21345</td>\n",
       "      <td>49</td>\n",
       "      <td>10</td>\n",
       "      <td>29378.35</td>\n",
       "      <td>3</td>\n",
       "      <td>2</td>\n",
       "      <td>3</td>\n",
       "      <td>2.7</td>\n",
       "      <td>潜力客户</td>\n",
       "    </tr>\n",
       "    <tr>\n",
       "      <th>4</th>\n",
       "      <td>QB</td>\n",
       "      <td>22813</td>\n",
       "      <td>4</td>\n",
       "      <td>73</td>\n",
       "      <td>640674.40</td>\n",
       "      <td>5</td>\n",
       "      <td>5</td>\n",
       "      <td>5</td>\n",
       "      <td>5.0</td>\n",
       "      <td>重要价值客户</td>\n",
       "    </tr>\n",
       "  </tbody>\n",
       "</table>\n",
       "</div>"
      ],
      "text/plain": [
       "  city_code  customer_code  last_sale_day  sale_frq   sale_amt R1 F1 M1  RFM  \\\n",
       "0        QB          16449              6       104  585536.80  4  5  5  4.8   \n",
       "1        QB          19658              4        75  345461.63  5  5  5  5.0   \n",
       "2        QB          21318             89         7    5522.47  1  2  2  1.8   \n",
       "3        QB          21345             49        10   29378.35  3  2  3  2.7   \n",
       "4        QB          22813              4        73  640674.40  5  5  5  5.0   \n",
       "\n",
       "  customer_classification  \n",
       "0                  重要价值客户  \n",
       "1                  重要价值客户  \n",
       "2                  一般维持客户  \n",
       "3                    潜力客户  \n",
       "4                  重要价值客户  "
      ]
     },
     "execution_count": 35,
     "metadata": {},
     "output_type": "execute_result"
    }
   ],
   "source": [
    "rfm.head()"
   ]
  },
  {
   "cell_type": "code",
   "execution_count": 38,
   "metadata": {},
   "outputs": [],
   "source": [
    "#汇总数据\n",
    "df1=rfm.reset_index().dropna()"
   ]
  },
  {
   "cell_type": "code",
   "execution_count": 42,
   "metadata": {},
   "outputs": [],
   "source": [
    "df1=df1.pivot_table('customer_code',index='customer_classification',aggfunc='count')"
   ]
  },
  {
   "cell_type": "code",
   "execution_count": 43,
   "metadata": {},
   "outputs": [
    {
     "data": {
      "text/html": [
       "<div>\n",
       "<style scoped>\n",
       "    .dataframe tbody tr th:only-of-type {\n",
       "        vertical-align: middle;\n",
       "    }\n",
       "\n",
       "    .dataframe tbody tr th {\n",
       "        vertical-align: top;\n",
       "    }\n",
       "\n",
       "    .dataframe thead th {\n",
       "        text-align: right;\n",
       "    }\n",
       "</style>\n",
       "<table border=\"1\" class=\"dataframe\">\n",
       "  <thead>\n",
       "    <tr style=\"text-align: right;\">\n",
       "      <th></th>\n",
       "      <th>customer_code</th>\n",
       "    </tr>\n",
       "    <tr>\n",
       "      <th>customer_classification</th>\n",
       "      <th></th>\n",
       "    </tr>\n",
       "  </thead>\n",
       "  <tbody>\n",
       "    <tr>\n",
       "      <th>流失客户</th>\n",
       "      <td>458</td>\n",
       "    </tr>\n",
       "    <tr>\n",
       "      <th>一般维持客户</th>\n",
       "      <td>379</td>\n",
       "    </tr>\n",
       "    <tr>\n",
       "      <th>一般发展客户</th>\n",
       "      <td>470</td>\n",
       "    </tr>\n",
       "    <tr>\n",
       "      <th>潜力客户</th>\n",
       "      <td>358</td>\n",
       "    </tr>\n",
       "    <tr>\n",
       "      <th>重要挽留客户</th>\n",
       "      <td>391</td>\n",
       "    </tr>\n",
       "    <tr>\n",
       "      <th>重要保持客户</th>\n",
       "      <td>473</td>\n",
       "    </tr>\n",
       "    <tr>\n",
       "      <th>重要发展客户</th>\n",
       "      <td>335</td>\n",
       "    </tr>\n",
       "    <tr>\n",
       "      <th>重要价值客户</th>\n",
       "      <td>403</td>\n",
       "    </tr>\n",
       "  </tbody>\n",
       "</table>\n",
       "</div>"
      ],
      "text/plain": [
       "                         customer_code\n",
       "customer_classification               \n",
       "流失客户                               458\n",
       "一般维持客户                             379\n",
       "一般发展客户                             470\n",
       "潜力客户                               358\n",
       "重要挽留客户                             391\n",
       "重要保持客户                             473\n",
       "重要发展客户                             335\n",
       "重要价值客户                             403"
      ]
     },
     "execution_count": 43,
     "metadata": {},
     "output_type": "execute_result"
    }
   ],
   "source": [
    "df1"
   ]
  },
  {
   "cell_type": "code",
   "execution_count": 44,
   "metadata": {},
   "outputs": [],
   "source": [
    "df1=df1.rename(columns={'customer_code':'人数'}).reset_index()"
   ]
  },
  {
   "cell_type": "code",
   "execution_count": 45,
   "metadata": {},
   "outputs": [
    {
     "data": {
      "text/html": [
       "<div>\n",
       "<style scoped>\n",
       "    .dataframe tbody tr th:only-of-type {\n",
       "        vertical-align: middle;\n",
       "    }\n",
       "\n",
       "    .dataframe tbody tr th {\n",
       "        vertical-align: top;\n",
       "    }\n",
       "\n",
       "    .dataframe thead th {\n",
       "        text-align: right;\n",
       "    }\n",
       "</style>\n",
       "<table border=\"1\" class=\"dataframe\">\n",
       "  <thead>\n",
       "    <tr style=\"text-align: right;\">\n",
       "      <th></th>\n",
       "      <th>customer_classification</th>\n",
       "      <th>人数</th>\n",
       "    </tr>\n",
       "  </thead>\n",
       "  <tbody>\n",
       "    <tr>\n",
       "      <th>0</th>\n",
       "      <td>流失客户</td>\n",
       "      <td>458</td>\n",
       "    </tr>\n",
       "    <tr>\n",
       "      <th>1</th>\n",
       "      <td>一般维持客户</td>\n",
       "      <td>379</td>\n",
       "    </tr>\n",
       "    <tr>\n",
       "      <th>2</th>\n",
       "      <td>一般发展客户</td>\n",
       "      <td>470</td>\n",
       "    </tr>\n",
       "    <tr>\n",
       "      <th>3</th>\n",
       "      <td>潜力客户</td>\n",
       "      <td>358</td>\n",
       "    </tr>\n",
       "    <tr>\n",
       "      <th>4</th>\n",
       "      <td>重要挽留客户</td>\n",
       "      <td>391</td>\n",
       "    </tr>\n",
       "    <tr>\n",
       "      <th>5</th>\n",
       "      <td>重要保持客户</td>\n",
       "      <td>473</td>\n",
       "    </tr>\n",
       "    <tr>\n",
       "      <th>6</th>\n",
       "      <td>重要发展客户</td>\n",
       "      <td>335</td>\n",
       "    </tr>\n",
       "    <tr>\n",
       "      <th>7</th>\n",
       "      <td>重要价值客户</td>\n",
       "      <td>403</td>\n",
       "    </tr>\n",
       "  </tbody>\n",
       "</table>\n",
       "</div>"
      ],
      "text/plain": [
       "  customer_classification   人数\n",
       "0                    流失客户  458\n",
       "1                  一般维持客户  379\n",
       "2                  一般发展客户  470\n",
       "3                    潜力客户  358\n",
       "4                  重要挽留客户  391\n",
       "5                  重要保持客户  473\n",
       "6                  重要发展客户  335\n",
       "7                  重要价值客户  403"
      ]
     },
     "execution_count": 45,
     "metadata": {},
     "output_type": "execute_result"
    }
   ],
   "source": [
    "df1"
   ]
  },
  {
   "cell_type": "code",
   "execution_count": null,
   "metadata": {},
   "outputs": [],
   "source": []
  }
 ],
 "metadata": {
  "kernelspec": {
   "display_name": "Python 3",
   "language": "python",
   "name": "python3"
  },
  "language_info": {
   "codemirror_mode": {
    "name": "ipython",
    "version": 3
   },
   "file_extension": ".py",
   "mimetype": "text/x-python",
   "name": "python",
   "nbconvert_exporter": "python",
   "pygments_lexer": "ipython3",
   "version": "3.7.1"
  }
 },
 "nbformat": 4,
 "nbformat_minor": 2
}
